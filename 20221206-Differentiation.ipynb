{
 "cells": [
  {
   "cell_type": "markdown",
   "id": "10312451",
   "metadata": {},
   "source": [
    "## Plotting the tangent line of a function"
   ]
  },
  {
   "cell_type": "code",
   "execution_count": 1,
   "id": "5ef99ab1",
   "metadata": {},
   "outputs": [],
   "source": [
    "import numpy as np\n",
    "import matplotlib.pyplot as plt"
   ]
  },
  {
   "cell_type": "markdown",
   "id": "b4edf68a",
   "metadata": {},
   "source": [
    "*Exercise*: Plot the function $f(x) = x^2$ in the interval $[-1,3]$ and its tangent line to $x_0 = 1$."
   ]
  },
  {
   "cell_type": "code",
   "execution_count": 2,
   "id": "47364cb4",
   "metadata": {},
   "outputs": [],
   "source": [
    "x = np.linspace(-1,3,100)\n",
    "y = x**2"
   ]
  },
  {
   "cell_type": "markdown",
   "id": "22e8effc",
   "metadata": {},
   "source": [
    "The equation of the tangent line is\n",
    "$$t(x) = f(x_0) + f'(x_0)(x-x_0)$$"
   ]
  },
  {
   "cell_type": "markdown",
   "id": "e69eaf73",
   "metadata": {},
   "source": [
    "We have $f'(x)= (x^2)' = 2x$."
   ]
  },
  {
   "cell_type": "markdown",
   "id": "ee932aed",
   "metadata": {},
   "source": [
    "Thus, in our case with $x_0 = 1$:\n",
    "$$t(x) = 1^2 + 2\\cdot1 (x-1) = 1 + 2\\cdot(x-1).$$"
   ]
  },
  {
   "cell_type": "code",
   "execution_count": 3,
   "id": "3e510215",
   "metadata": {},
   "outputs": [],
   "source": [
    "y_tangent_line = 1 + 2*(x-1)"
   ]
  },
  {
   "cell_type": "code",
   "execution_count": 4,
   "id": "75505adf",
   "metadata": {},
   "outputs": [
    {
     "data": {
      "text/plain": [
       "[<matplotlib.lines.Line2D at 0x11e4c4970>]"
      ]
     },
     "execution_count": 4,
     "metadata": {},
     "output_type": "execute_result"
    },
    {
     "data": {
      "image/png": "[encoded data removed]",
      "text/plain": [
       "<Figure size 640x480 with 1 Axes>"
      ]
     },
     "metadata": {},
     "output_type": "display_data"
    }
   ],
   "source": [
    "plt.plot(x,y)\n",
    "plt.plot(x,y_tangent_line)"
   ]
  },
  {
   "cell_type": "markdown",
   "id": "f8bfc562",
   "metadata": {},
   "source": [
    "## Computing derivatives with SymPy"
   ]
  },
  {
   "cell_type": "code",
   "execution_count": 5,
   "id": "1196a145",
   "metadata": {},
   "outputs": [],
   "source": [
    "import sympy as sy"
   ]
  },
  {
   "cell_type": "markdown",
   "id": "b04b0f5f",
   "metadata": {},
   "source": [
    "We start by defining some symbolic expression depending on a symbolic variable $x$ which we want to differentiate with respect to $x$, e.g.\n",
    "$$f(x) = x^2+5x+4$$"
   ]
  },
  {
   "cell_type": "code",
   "execution_count": 6,
   "id": "9dc54f13",
   "metadata": {},
   "outputs": [],
   "source": [
    "x = sy.symbols('x')"
   ]
  },
  {
   "cell_type": "code",
   "execution_count": 7,
   "id": "48dec35e",
   "metadata": {},
   "outputs": [],
   "source": [
    "f = x**2 + 5*x + 4"
   ]
  },
  {
   "cell_type": "markdown",
   "id": "ff237ba0",
   "metadata": {},
   "source": [
    "Then we differentiate this expression symbolically using the SymPy function `diff()`."
   ]
  },
  {
   "cell_type": "code",
   "execution_count": 8,
   "id": "3ad6679b",
   "metadata": {},
   "outputs": [
    {
     "data": {
      "text/latex": [
       "$\\displaystyle 2 x + 5$"
      ],
      "text/plain": [
       "2*x + 5"
      ]
     },
     "execution_count": 8,
     "metadata": {},
     "output_type": "execute_result"
    }
   ],
   "source": [
    "sy.diff(f)"
   ]
  },
  {
   "cell_type": "markdown",
   "id": "61dadaef",
   "metadata": {},
   "source": [
    "If the algebraic expression depends on more than one symbolic variable, we need to tell SymPy with respect to which variable we want to differentiate. This is done by specifying a second argument in `diff()`:"
   ]
  },
  {
   "cell_type": "markdown",
   "id": "536f5cdf",
   "metadata": {},
   "source": [
    "Let's differentiate the term\n",
    "$$g(x) = \\text{e}^{a \\cdot \\sin(x)}$$\n",
    "with respect to $x$:"
   ]
  },
  {
   "cell_type": "code",
   "execution_count": 10,
   "id": "542960c7",
   "metadata": {},
   "outputs": [
    {
     "data": {
      "text/latex": [
       "$\\displaystyle e^{a \\sin{\\left(x \\right)}}$"
      ],
      "text/plain": [
       "exp(a*sin(x))"
      ]
     },
     "execution_count": 10,
     "metadata": {},
     "output_type": "execute_result"
    }
   ],
   "source": [
    "a = sy.symbols('a')\n",
    "g = sy.exp(a*sy.sin(x))\n",
    "g"
   ]
  },
  {
   "cell_type": "code",
   "execution_count": 11,
   "id": "87237db3",
   "metadata": {},
   "outputs": [
    {
     "data": {
      "text/latex": [
       "$\\displaystyle a e^{a \\sin{\\left(x \\right)}} \\cos{\\left(x \\right)}$"
      ],
      "text/plain": [
       "a*exp(a*sin(x))*cos(x)"
      ]
     },
     "execution_count": 11,
     "metadata": {},
     "output_type": "execute_result"
    }
   ],
   "source": [
    "#differentiate g with respect to x\n",
    "sy.diff(g, x)"
   ]
  },
  {
   "cell_type": "markdown",
   "id": "038b4b9c",
   "metadata": {},
   "source": [
    "In order to compute higher derivatives, we can pass a natural number $n$ as a third parameter to `diff()`. For example:"
   ]
  },
  {
   "cell_type": "code",
   "execution_count": 12,
   "id": "2073b429",
   "metadata": {},
   "outputs": [
    {
     "data": {
      "text/latex": [
       "$\\displaystyle x^{2} + 5 x + 4$"
      ],
      "text/plain": [
       "x**2 + 5*x + 4"
      ]
     },
     "execution_count": 12,
     "metadata": {},
     "output_type": "execute_result"
    }
   ],
   "source": [
    "f"
   ]
  },
  {
   "cell_type": "code",
   "execution_count": 13,
   "id": "14bd8d9a",
   "metadata": {},
   "outputs": [
    {
     "data": {
      "text/latex": [
       "$\\displaystyle 2$"
      ],
      "text/plain": [
       "2"
      ]
     },
     "execution_count": 13,
     "metadata": {},
     "output_type": "execute_result"
    }
   ],
   "source": [
    "#compute the second derivative of f with respect to x\n",
    "sy.diff(f,x,2)"
   ]
  },
  {
   "cell_type": "code",
   "execution_count": 14,
   "id": "4618a82c",
   "metadata": {},
   "outputs": [
    {
     "data": {
      "text/latex": [
       "$\\displaystyle 0$"
      ],
      "text/plain": [
       "0"
      ]
     },
     "execution_count": 14,
     "metadata": {},
     "output_type": "execute_result"
    }
   ],
   "source": [
    "sy.diff(f,x,3)"
   ]
  },
  {
   "cell_type": "code",
   "execution_count": 15,
   "id": "33eac51b",
   "metadata": {},
   "outputs": [
    {
     "ename": "ValueError",
     "evalue": "First variable cannot be a number: 2",
     "output_type": "error",
     "traceback": [
      "\u001b[0;31m---------------------------------------------------------------------------\u001b[0m",
      "\u001b[0;31mValueError\u001b[0m                                Traceback (most recent call last)",
      "Input \u001b[0;32mIn [15]\u001b[0m, in \u001b[0;36m<cell line: 1>\u001b[0;34m()\u001b[0m\n\u001b[0;32m----> 1\u001b[0m \u001b[43msy\u001b[49m\u001b[38;5;241;43m.\u001b[39;49m\u001b[43mdiff\u001b[49m\u001b[43m(\u001b[49m\u001b[43mf\u001b[49m\u001b[43m,\u001b[49m\u001b[38;5;241;43m2\u001b[39;49m\u001b[43m)\u001b[49m\n",
      "File \u001b[0;32m~/opt/miniconda3/envs/maths-egm/lib/python3.10/site-packages/sympy/core/function.py:2499\u001b[0m, in \u001b[0;36mdiff\u001b[0;34m(f, *symbols, **kwargs)\u001b[0m\n\u001b[1;32m   2435\u001b[0m \u001b[38;5;124;03m\"\"\"\u001b[39;00m\n\u001b[1;32m   2436\u001b[0m \u001b[38;5;124;03mDifferentiate f with respect to symbols.\u001b[39;00m\n\u001b[1;32m   2437\u001b[0m \n\u001b[0;32m   (...)\u001b[0m\n\u001b[1;32m   2496\u001b[0m \n\u001b[1;32m   2497\u001b[0m \u001b[38;5;124;03m\"\"\"\u001b[39;00m\n\u001b[1;32m   2498\u001b[0m \u001b[38;5;28;01mif\u001b[39;00m \u001b[38;5;28mhasattr\u001b[39m(f, \u001b[38;5;124m'\u001b[39m\u001b[38;5;124mdiff\u001b[39m\u001b[38;5;124m'\u001b[39m):\n\u001b[0;32m-> 2499\u001b[0m     \u001b[38;5;28;01mreturn\u001b[39;00m \u001b[43mf\u001b[49m\u001b[38;5;241;43m.\u001b[39;49m\u001b[43mdiff\u001b[49m\u001b[43m(\u001b[49m\u001b[38;5;241;43m*\u001b[39;49m\u001b[43msymbols\u001b[49m\u001b[43m,\u001b[49m\u001b[43m \u001b[49m\u001b[38;5;241;43m*\u001b[39;49m\u001b[38;5;241;43m*\u001b[39;49m\u001b[43mkwargs\u001b[49m\u001b[43m)\u001b[49m\n\u001b[1;32m   2500\u001b[0m kwargs\u001b[38;5;241m.\u001b[39msetdefault(\u001b[38;5;124m'\u001b[39m\u001b[38;5;124mevaluate\u001b[39m\u001b[38;5;124m'\u001b[39m, \u001b[38;5;28;01mTrue\u001b[39;00m)\n\u001b[1;32m   2501\u001b[0m \u001b[38;5;28;01mreturn\u001b[39;00m _derivative_dispatch(f, \u001b[38;5;241m*\u001b[39msymbols, \u001b[38;5;241m*\u001b[39m\u001b[38;5;241m*\u001b[39mkwargs)\n",
      "File \u001b[0;32m~/opt/miniconda3/envs/maths-egm/lib/python3.10/site-packages/sympy/core/expr.py:3528\u001b[0m, in \u001b[0;36mExpr.diff\u001b[0;34m(self, *symbols, **assumptions)\u001b[0m\n\u001b[1;32m   3526\u001b[0m \u001b[38;5;28;01mdef\u001b[39;00m \u001b[38;5;21mdiff\u001b[39m(\u001b[38;5;28mself\u001b[39m, \u001b[38;5;241m*\u001b[39msymbols, \u001b[38;5;241m*\u001b[39m\u001b[38;5;241m*\u001b[39massumptions):\n\u001b[1;32m   3527\u001b[0m     assumptions\u001b[38;5;241m.\u001b[39msetdefault(\u001b[38;5;124m\"\u001b[39m\u001b[38;5;124mevaluate\u001b[39m\u001b[38;5;124m\"\u001b[39m, \u001b[38;5;28;01mTrue\u001b[39;00m)\n\u001b[0;32m-> 3528\u001b[0m     \u001b[38;5;28;01mreturn\u001b[39;00m \u001b[43m_derivative_dispatch\u001b[49m\u001b[43m(\u001b[49m\u001b[38;5;28;43mself\u001b[39;49m\u001b[43m,\u001b[49m\u001b[43m \u001b[49m\u001b[38;5;241;43m*\u001b[39;49m\u001b[43msymbols\u001b[49m\u001b[43m,\u001b[49m\u001b[43m \u001b[49m\u001b[38;5;241;43m*\u001b[39;49m\u001b[38;5;241;43m*\u001b[39;49m\u001b[43massumptions\u001b[49m\u001b[43m)\u001b[49m\n",
      "File \u001b[0;32m~/opt/miniconda3/envs/maths-egm/lib/python3.10/site-packages/sympy/core/function.py:1923\u001b[0m, in \u001b[0;36m_derivative_dispatch\u001b[0;34m(expr, *variables, **kwargs)\u001b[0m\n\u001b[1;32m   1921\u001b[0m     \u001b[38;5;28;01mfrom\u001b[39;00m \u001b[38;5;21;01msympy\u001b[39;00m\u001b[38;5;21;01m.\u001b[39;00m\u001b[38;5;21;01mtensor\u001b[39;00m\u001b[38;5;21;01m.\u001b[39;00m\u001b[38;5;21;01marray\u001b[39;00m\u001b[38;5;21;01m.\u001b[39;00m\u001b[38;5;21;01marray_derivatives\u001b[39;00m \u001b[38;5;28;01mimport\u001b[39;00m ArrayDerivative\n\u001b[1;32m   1922\u001b[0m     \u001b[38;5;28;01mreturn\u001b[39;00m ArrayDerivative(expr, \u001b[38;5;241m*\u001b[39mvariables, \u001b[38;5;241m*\u001b[39m\u001b[38;5;241m*\u001b[39mkwargs)\n\u001b[0;32m-> 1923\u001b[0m \u001b[38;5;28;01mreturn\u001b[39;00m \u001b[43mDerivative\u001b[49m\u001b[43m(\u001b[49m\u001b[43mexpr\u001b[49m\u001b[43m,\u001b[49m\u001b[43m \u001b[49m\u001b[38;5;241;43m*\u001b[39;49m\u001b[43mvariables\u001b[49m\u001b[43m,\u001b[49m\u001b[43m \u001b[49m\u001b[38;5;241;43m*\u001b[39;49m\u001b[38;5;241;43m*\u001b[39;49m\u001b[43mkwargs\u001b[49m\u001b[43m)\u001b[49m\n",
      "File \u001b[0;32m~/opt/miniconda3/envs/maths-egm/lib/python3.10/site-packages/sympy/core/function.py:1310\u001b[0m, in \u001b[0;36mDerivative.__new__\u001b[0;34m(cls, expr, *variables, **kwargs)\u001b[0m\n\u001b[1;32m   1308\u001b[0m \u001b[38;5;28;01mif\u001b[39;00m \u001b[38;5;28misinstance\u001b[39m(v, Integer):\n\u001b[1;32m   1309\u001b[0m     \u001b[38;5;28;01mif\u001b[39;00m i \u001b[38;5;241m==\u001b[39m \u001b[38;5;241m0\u001b[39m:\n\u001b[0;32m-> 1310\u001b[0m         \u001b[38;5;28;01mraise\u001b[39;00m \u001b[38;5;167;01mValueError\u001b[39;00m(\u001b[38;5;124m\"\u001b[39m\u001b[38;5;124mFirst variable cannot be a number: \u001b[39m\u001b[38;5;132;01m%i\u001b[39;00m\u001b[38;5;124m\"\u001b[39m \u001b[38;5;241m%\u001b[39m v)\n\u001b[1;32m   1311\u001b[0m     count \u001b[38;5;241m=\u001b[39m v\n\u001b[1;32m   1312\u001b[0m     prev, prevcount \u001b[38;5;241m=\u001b[39m variable_count[\u001b[38;5;241m-\u001b[39m\u001b[38;5;241m1\u001b[39m]\n",
      "\u001b[0;31mValueError\u001b[0m: First variable cannot be a number: 2"
     ]
    }
   ],
   "source": [
    "# If you specify the order of the derivative by an integer,\n",
    "# you need to specify the variable of differentiation first\n",
    "sy.diff(f,2)"
   ]
  },
  {
   "cell_type": "code",
   "execution_count": 16,
   "id": "146a5936",
   "metadata": {},
   "outputs": [
    {
     "data": {
      "text/latex": [
       "$\\displaystyle 2$"
      ],
      "text/plain": [
       "2"
      ]
     },
     "execution_count": 16,
     "metadata": {},
     "output_type": "execute_result"
    }
   ],
   "source": [
    "# Alternative ways of computing a second derivative\n",
    "sy.diff(sy.diff(f))"
   ]
  },
  {
   "cell_type": "code",
   "execution_count": 17,
   "id": "8ff35dc6",
   "metadata": {},
   "outputs": [
    {
     "data": {
      "text/latex": [
       "$\\displaystyle 2$"
      ],
      "text/plain": [
       "2"
      ]
     },
     "execution_count": 17,
     "metadata": {},
     "output_type": "execute_result"
    }
   ],
   "source": [
    "# Alternative 2\n",
    "sy.diff(f,x,x)"
   ]
  },
  {
   "attachments": {
    "Bildschirm%C2%ADfoto%202022-12-06%20um%2009.16.03.png": {
     "image/png": "[encoded data removed]"
    }
   },
   "cell_type": "markdown",
   "id": "a678e94f",
   "metadata": {},
   "source": [
    "![Bildschirm%C2%ADfoto%202022-12-06%20um%2009.16.03.png](attachment:Bildschirm%C2%ADfoto%202022-12-06%20um%2009.16.03.png)"
   ]
  },
  {
   "cell_type": "markdown",
   "id": "7644d660",
   "metadata": {},
   "source": [
    "Start with verifying the formula for the derivative of $f(x) = \\sqrt[6]{x}$."
   ]
  },
  {
   "cell_type": "code",
   "execution_count": 22,
   "id": "a4305476",
   "metadata": {},
   "outputs": [
    {
     "data": {
      "text/latex": [
       "$\\displaystyle \\sqrt[6]{x}$"
      ],
      "text/plain": [
       "x**(1/6)"
      ]
     },
     "execution_count": 22,
     "metadata": {},
     "output_type": "execute_result"
    }
   ],
   "source": [
    "f = x**(sy.S(1)/6)\n",
    "f"
   ]
  },
  {
   "cell_type": "code",
   "execution_count": 23,
   "id": "ce60ea14",
   "metadata": {},
   "outputs": [
    {
     "data": {
      "text/latex": [
       "$\\displaystyle \\frac{1}{6 x^{\\frac{5}{6}}}$"
      ],
      "text/plain": [
       "1/(6*x**(5/6))"
      ]
     },
     "execution_count": 23,
     "metadata": {},
     "output_type": "execute_result"
    }
   ],
   "source": [
    "sy.diff(f)"
   ]
  },
  {
   "cell_type": "markdown",
   "id": "f5ec4980",
   "metadata": {},
   "source": [
    "1. Find an appropriate $x_0$\n",
    "2. Compute the equation of the tangent  line at $x_0$\n",
    "3. Evaluate the tangent line at $x = 65$ to get an approximate value of $\\sqrt[6]{65}$\n",
    "4. Visualize the approximation\n",
    "5. Evaluate numerically the approximation error"
   ]
  },
  {
   "cell_type": "markdown",
   "id": "66253a4d",
   "metadata": {},
   "source": [
    "Answer to 1.: Choose $x_0=64$. (Reason why this is an intelligent choice: (a) $64$ is close to $65$ (as opposed to e.g. $1$) and (b) $f$ can be evaluated exactly at $x_0 = 64$)"
   ]
  },
  {
   "cell_type": "markdown",
   "id": "e2ce6dc5",
   "metadata": {},
   "source": [
    "Answer to 2.: Equation of tangent line\n",
    "$$t(x) = f(x_0) + f'(x_0) \\cdot (x-x_0)$$"
   ]
  },
  {
   "cell_type": "code",
   "execution_count": 24,
   "id": "3a768094",
   "metadata": {},
   "outputs": [
    {
     "data": {
      "text/latex": [
       "$\\displaystyle 2$"
      ],
      "text/plain": [
       "2"
      ]
     },
     "execution_count": 24,
     "metadata": {},
     "output_type": "execute_result"
    }
   ],
   "source": [
    "# Evaluate f = x**(1/6) at x0 = 64\n",
    "f.subs(x,64)"
   ]
  },
  {
   "cell_type": "code",
   "execution_count": 26,
   "id": "3dc72120",
   "metadata": {},
   "outputs": [
    {
     "data": {
      "text/latex": [
       "$\\displaystyle \\frac{1}{192}$"
      ],
      "text/plain": [
       "1/192"
      ]
     },
     "execution_count": 26,
     "metadata": {},
     "output_type": "execute_result"
    }
   ],
   "source": [
    "# Evaluate the derivative of f = x**(1/6) at x0 = 64\n",
    "sy.diff(f,x).subs(x,64)"
   ]
  },
  {
   "cell_type": "code",
   "execution_count": 27,
   "id": "99d45d99",
   "metadata": {},
   "outputs": [
    {
     "data": {
      "text/latex": [
       "$\\displaystyle \\frac{x}{192} + \\frac{5}{3}$"
      ],
      "text/plain": [
       "x/192 + 5/3"
      ]
     },
     "execution_count": 27,
     "metadata": {},
     "output_type": "execute_result"
    }
   ],
   "source": [
    "t = f.subs(x,64) + sy.diff(f,x).subs(x,64)*(x-64)\n",
    "t"
   ]
  },
  {
   "cell_type": "markdown",
   "id": "1f0e7a2d",
   "metadata": {},
   "source": [
    "Answer to 3.:"
   ]
  },
  {
   "cell_type": "code",
   "execution_count": 28,
   "id": "6787f72f",
   "metadata": {},
   "outputs": [
    {
     "data": {
      "text/latex": [
       "$\\displaystyle \\frac{385}{192}$"
      ],
      "text/plain": [
       "385/192"
      ]
     },
     "execution_count": 28,
     "metadata": {},
     "output_type": "execute_result"
    }
   ],
   "source": [
    "t.subs(x,65)"
   ]
  },
  {
   "cell_type": "markdown",
   "id": "e96c6c0f",
   "metadata": {},
   "source": [
    "Answer to 5.:"
   ]
  },
  {
   "cell_type": "code",
   "execution_count": 29,
   "id": "5dd49fae",
   "metadata": {},
   "outputs": [
    {
     "data": {
      "text/latex": [
       "$\\displaystyle 3.35881829117921 \\cdot 10^{-5}$"
      ],
      "text/plain": [
       "3.35881829117921e-5"
      ]
     },
     "execution_count": 29,
     "metadata": {},
     "output_type": "execute_result"
    }
   ],
   "source": [
    "# Compute difference of approximate value and exact value\n",
    "(t.subs(x,65) - f.subs(x,65)).evalf()"
   ]
  },
  {
   "cell_type": "code",
   "execution_count": null,
   "id": "5fccf3da",
   "metadata": {},
   "outputs": [],
   "source": []
  }
 ],
 "metadata": {
  "kernelspec": {
   "display_name": "maths-egm",
   "language": "python",
   "name": "maths-egm"
  },
  "language_info": {
   "codemirror_mode": {
    "name": "ipython",
    "version": 3
   },
   "file_extension": ".py",
   "mimetype": "text/x-python",
   "name": "python",
   "nbconvert_exporter": "python",
   "pygments_lexer": "ipython3",
   "version": "3.10.6"
  }
 },
 "nbformat": 4,
 "nbformat_minor": 5
}
