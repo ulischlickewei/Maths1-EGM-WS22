{
 "cells": [
  {
   "cell_type": "markdown",
   "id": "26c786dc",
   "metadata": {},
   "source": [
    "# Real functions in Python"
   ]
  },
  {
   "cell_type": "markdown",
   "id": "db954fa8",
   "metadata": {},
   "source": [
    "## 1. Installing NumPy and Matplotlib"
   ]
  },
  {
   "cell_type": "markdown",
   "id": "7e769783",
   "metadata": {},
   "source": [
    "In this chapter we will need the Python packages NumPy and Matplotlib. If you are using Google Colab you can jump directly to Section 2. as these are installed in Colab.\n",
    "\n",
    "If on the other hand you are using a local installation, the easiest way to see if these are already installed is to run the following two cells:"
   ]
  },
  {
   "cell_type": "code",
   "execution_count": null,
   "id": "c03179be",
   "metadata": {},
   "outputs": [],
   "source": [
    "# imports the NumPy package and abbreviates the NumPy namespace as np\n",
    "import numpy as np"
   ]
  },
  {
   "cell_type": "code",
   "execution_count": null,
   "id": "ba57a52f",
   "metadata": {},
   "outputs": [],
   "source": [
    "# imports the PyPlot package from Matplotlib and abbreiatves\n",
    "# the corresponding namespace as plt\n",
    "from matplotlib import pyplot as plt"
   ]
  },
  {
   "cell_type": "markdown",
   "id": "5a52cb8b",
   "metadata": {},
   "source": [
    "If any of the commands above led to an error message (e.g. \"Module not found\"), then follow the instructions below. We distinguish 2 different cases:\n",
    "\n",
    "1a. Installation through Anaconda\n",
    "\n",
    "1b. Other type of installation"
   ]
  },
  {
   "cell_type": "markdown",
   "id": "f515f428",
   "metadata": {},
   "source": [
    "### 1a. Anaconda installation\n",
    "\n",
    "If you installed Python using the Anaconda package manager, then the following code is recommended to install the missing packages."
   ]
  },
  {
   "cell_type": "code",
   "execution_count": null,
   "id": "c02a39a8",
   "metadata": {},
   "outputs": [],
   "source": [
    "# Install NumPy with Anaconda\n",
    "import sys\n",
    "!conda install --yes --prefix {sys.prefix} numpy"
   ]
  },
  {
   "cell_type": "code",
   "execution_count": null,
   "id": "919bf63d",
   "metadata": {},
   "outputs": [],
   "source": [
    "# Install matplotlib using Anaconda\n",
    "import sys\n",
    "!conda install --yes --prefix {sys.prefix} matplotlib"
   ]
  },
  {
   "cell_type": "markdown",
   "id": "1c3ad7ed",
   "metadata": {},
   "source": [
    "### 1b. Other types of installation (using pip for managing packages)\n",
    "\n",
    "If you do not install Python using Anaconda, I assume you use pip for managing packages. This is the package manager recommended by the Python Software Foundation (even though many Data Scientists prefer using Anaconda)."
   ]
  },
  {
   "cell_type": "code",
   "execution_count": null,
   "id": "c3305d35",
   "metadata": {},
   "outputs": [],
   "source": [
    "# Install NumPy in the current Jupyter kernel using pip\n",
    "import sys\n",
    "!{sys.executable} -m pip install numpy"
   ]
  },
  {
   "cell_type": "code",
   "execution_count": null,
   "id": "9109be23",
   "metadata": {},
   "outputs": [],
   "source": [
    "# Install Matplotlib in the current Jupyter kernel using pip\n",
    "import sys\n",
    "!{sys.executable} -m pip install matplotlib"
   ]
  },
  {
   "cell_type": "markdown",
   "id": "0fbf4686",
   "metadata": {},
   "source": [
    "## 2. Working with real functions in Python"
   ]
  },
  {
   "cell_type": "markdown",
   "id": "33228dcc",
   "metadata": {},
   "source": [
    "### Plotting a function with PyPlot"
   ]
  },
  {
   "cell_type": "code",
   "execution_count": 2,
   "id": "46620c0e",
   "metadata": {},
   "outputs": [],
   "source": [
    "import matplotlib.pyplot as plt #plt is an alias\n",
    "import numpy as np"
   ]
  },
  {
   "cell_type": "markdown",
   "id": "6dfeb7ae",
   "metadata": {},
   "source": [
    "**Objective**: Plot the function\n",
    "$$f(x) = \\frac13 x^3 - \\frac12 x^2 -x+2$$\n",
    "in the interval $[-2,2]$.\n",
    "\n",
    "*Step 1:* Define the function $f$ (as a numerical function)"
   ]
  },
  {
   "cell_type": "code",
   "execution_count": 3,
   "id": "f57fa5a5",
   "metadata": {},
   "outputs": [],
   "source": [
    "def f(x):\n",
    "    return 1/3*x**3 - 1/2*x**2-x+2"
   ]
  },
  {
   "cell_type": "code",
   "execution_count": 5,
   "id": "35305097",
   "metadata": {},
   "outputs": [
    {
     "data": {
      "text/plain": [
       "0.6666666666666665"
      ]
     },
     "execution_count": 5,
     "metadata": {},
     "output_type": "execute_result"
    }
   ],
   "source": [
    "# Test\n",
    "f(2)"
   ]
  },
  {
   "cell_type": "markdown",
   "id": "0b214d8d",
   "metadata": {},
   "source": [
    "*Step 2*: Find 100 equidistributed $x$-values in the interval $[-2,2]$\n",
    "\n",
    "For that we use `np.linspace(a,b,n)`, where `a` is the lower limit (in our case $-2$), `b` is the upper limit (in our case $2$, `n` is the number of points we want)."
   ]
  },
  {
   "cell_type": "code",
   "execution_count": 12,
   "id": "a2252fbe",
   "metadata": {},
   "outputs": [
    {
     "data": {
      "text/plain": [
       "array([-2.        , -1.95959596, -1.91919192, -1.87878788, -1.83838384,\n",
       "       -1.7979798 , -1.75757576, -1.71717172, -1.67676768, -1.63636364,\n",
       "       -1.5959596 , -1.55555556, -1.51515152, -1.47474747, -1.43434343,\n",
       "       -1.39393939, -1.35353535, -1.31313131, -1.27272727, -1.23232323,\n",
       "       -1.19191919, -1.15151515, -1.11111111, -1.07070707, -1.03030303,\n",
       "       -0.98989899, -0.94949495, -0.90909091, -0.86868687, -0.82828283,\n",
       "       -0.78787879, -0.74747475, -0.70707071, -0.66666667, -0.62626263,\n",
       "       -0.58585859, -0.54545455, -0.50505051, -0.46464646, -0.42424242,\n",
       "       -0.38383838, -0.34343434, -0.3030303 , -0.26262626, -0.22222222,\n",
       "       -0.18181818, -0.14141414, -0.1010101 , -0.06060606, -0.02020202,\n",
       "        0.02020202,  0.06060606,  0.1010101 ,  0.14141414,  0.18181818,\n",
       "        0.22222222,  0.26262626,  0.3030303 ,  0.34343434,  0.38383838,\n",
       "        0.42424242,  0.46464646,  0.50505051,  0.54545455,  0.58585859,\n",
       "        0.62626263,  0.66666667,  0.70707071,  0.74747475,  0.78787879,\n",
       "        0.82828283,  0.86868687,  0.90909091,  0.94949495,  0.98989899,\n",
       "        1.03030303,  1.07070707,  1.11111111,  1.15151515,  1.19191919,\n",
       "        1.23232323,  1.27272727,  1.31313131,  1.35353535,  1.39393939,\n",
       "        1.43434343,  1.47474747,  1.51515152,  1.55555556,  1.5959596 ,\n",
       "        1.63636364,  1.67676768,  1.71717172,  1.75757576,  1.7979798 ,\n",
       "        1.83838384,  1.87878788,  1.91919192,  1.95959596,  2.        ])"
      ]
     },
     "execution_count": 12,
     "metadata": {},
     "output_type": "execute_result"
    }
   ],
   "source": [
    "x = np.linspace(-2,2,100)\n",
    "x"
   ]
  },
  {
   "cell_type": "markdown",
   "id": "4e580334",
   "metadata": {},
   "source": [
    "*Step 3*: Evaluate `f` at each of the $x$-values defined above"
   ]
  },
  {
   "cell_type": "code",
   "execution_count": 13,
   "id": "7de3cbb0",
   "metadata": {},
   "outputs": [
    {
     "data": {
      "text/plain": [
       "array([-0.66666667, -0.46870569, -0.27877524, -0.09674337,  0.07752181,\n",
       "        0.24415223,  0.40327981,  0.55503647,  0.69955412,  0.83696469,\n",
       "        0.96740008,  1.09099223,  1.20787304,  1.31817443,  1.42202833,\n",
       "        1.51956665,  1.61092131,  1.69622422,  1.77560731,  1.8492025 ,\n",
       "        1.91714169,  1.97955682,  2.03657979,  2.08834253,  2.13497695,\n",
       "        2.17661497,  2.21338852,  2.2454295 ,  2.27286984,  2.29584145,\n",
       "        2.31447626,  2.32890618,  2.33926312,  2.34567901,  2.34828577,\n",
       "        2.34721531,  2.34259955,  2.33457041,  2.32325981,  2.30879966,\n",
       "        2.29132188,  2.2709584 ,  2.24784113,  2.22210198,  2.19387289,\n",
       "        2.16328575,  2.1304725 ,  2.09556504,  2.05869531,  2.01999521,\n",
       "        1.97959667,  1.9376316 ,  1.89423192,  1.84952954,  1.8036564 ,\n",
       "        1.7567444 ,  1.70892546,  1.66033151,  1.61109445,  1.56134621,\n",
       "        1.51121871,  1.46084386,  1.41035358,  1.35987979,  1.30955441,\n",
       "        1.25950935,  1.20987654,  1.16078789,  1.11237533,  1.06477076,\n",
       "        1.0181061 ,  0.97251328,  0.92812422,  0.88507082,  0.84348502,\n",
       "        0.80349872,  0.76524384,  0.72885231,  0.69445604,  0.66218695,\n",
       "        0.63217695,  0.60455798,  0.57946193,  0.55702074,  0.53736632,\n",
       "        0.52063058,  0.50694545,  0.49644285,  0.48925469,  0.48551288,\n",
       "        0.48534936,  0.48889603,  0.49628482,  0.50764764,  0.52311641,\n",
       "        0.54282305,  0.56689948,  0.59547761,  0.62868937,  0.66666667])"
      ]
     },
     "execution_count": 13,
     "metadata": {},
     "output_type": "execute_result"
    }
   ],
   "source": [
    "y = f(x)\n",
    "y"
   ]
  },
  {
   "cell_type": "markdown",
   "id": "c2493491",
   "metadata": {},
   "source": [
    "*Step 4*: Draw the the points $(x_i, y_i)$ in a Cartesian coordinate system and connect them by lines.\n",
    "\n",
    "For this we use the function `plt.plot(x,y)`, where `x` are the $x$-values of the points to be plotted and `y` are the $y$-values to be plotted"
   ]
  },
  {
   "cell_type": "code",
   "execution_count": 14,
   "id": "4107fc46",
   "metadata": {},
   "outputs": [
    {
     "data": {
      "text/plain": [
       "[<matplotlib.lines.Line2D at 0x134689a50>]"
      ]
     },
     "execution_count": 14,
     "metadata": {},
     "output_type": "execute_result"
    },
    {
     "data": {
      "image/png": "[encoded data removed]",
      "text/plain": [
       "<Figure size 640x480 with 1 Axes>"
      ]
     },
     "metadata": {},
     "output_type": "display_data"
    }
   ],
   "source": [
    "plt.plot(x,y)"
   ]
  },
  {
   "cell_type": "markdown",
   "id": "956ae8bc",
   "metadata": {},
   "source": [
    "For illustration, do the same thing but this time with only $4$ $x$-values"
   ]
  },
  {
   "cell_type": "code",
   "execution_count": 10,
   "id": "b20bcf73",
   "metadata": {},
   "outputs": [
    {
     "data": {
      "text/plain": [
       "[<matplotlib.lines.Line2D at 0x1151d38e0>]"
      ]
     },
     "execution_count": 10,
     "metadata": {},
     "output_type": "execute_result"
    },
    {
     "data": {
      "image/png": "[encoded data removed]",
      "text/plain": [
       "<Figure size 640x480 with 1 Axes>"
      ]
     },
     "metadata": {},
     "output_type": "display_data"
    }
   ],
   "source": [
    "x = np.linspace(-2,2,4)\n",
    "y = f(x)\n",
    "plt.plot(x,y)"
   ]
  },
  {
   "cell_type": "code",
   "execution_count": null,
   "id": "944cbb34",
   "metadata": {},
   "outputs": [],
   "source": []
  }
 ],
 "metadata": {
  "kernelspec": {
   "display_name": "maths-egm",
   "language": "python",
   "name": "maths-egm"
  },
  "language_info": {
   "codemirror_mode": {
    "name": "ipython",
    "version": 3
   },
   "file_extension": ".py",
   "mimetype": "text/x-python",
   "name": "python",
   "nbconvert_exporter": "python",
   "pygments_lexer": "ipython3",
   "version": "3.10.6"
  }
 },
 "nbformat": 4,
 "nbformat_minor": 5
}
