{
 "cells": [
  {
   "cell_type": "markdown",
   "id": "140decd8",
   "metadata": {},
   "source": [
    "## 1) Exploring series numerically"
   ]
  },
  {
   "cell_type": "markdown",
   "id": "9aebd385",
   "metadata": {},
   "source": [
    "Partial sum\n",
    "$$\\sum_{i=0}^n \\frac{1}{2^i}$$"
   ]
  },
  {
   "cell_type": "code",
   "execution_count": 1,
   "id": "b063b231",
   "metadata": {},
   "outputs": [
    {
     "name": "stdout",
     "output_type": "stream",
     "text": [
      "0\n",
      "1\n",
      "2\n",
      "3\n",
      "4\n",
      "5\n",
      "6\n",
      "7\n",
      "8\n",
      "9\n",
      "10\n"
     ]
    }
   ],
   "source": [
    "n = 10\n",
    "for i in range(n+1):\n",
    "    print(i)"
   ]
  },
  {
   "cell_type": "code",
   "execution_count": 4,
   "id": "5d6c24ca",
   "metadata": {},
   "outputs": [],
   "source": [
    "def partial_sum(n):\n",
    "    s = 0\n",
    "    for i in range(n+1):\n",
    "        s = s + 1/2**i\n",
    "    return s"
   ]
  },
  {
   "cell_type": "code",
   "execution_count": 7,
   "id": "0090ce5f",
   "metadata": {},
   "outputs": [
    {
     "data": {
      "text/plain": [
       "2.0"
      ]
     },
     "execution_count": 7,
     "metadata": {},
     "output_type": "execute_result"
    }
   ],
   "source": [
    "n = 100\n",
    "partial_sum(n)"
   ]
  },
  {
   "cell_type": "markdown",
   "id": "fe9c4765",
   "metadata": {},
   "source": [
    "Consider now the **harmonic** series:\n",
    "$$\\sum_{i=1}^n \\frac{1}{i}$$"
   ]
  },
  {
   "cell_type": "code",
   "execution_count": 9,
   "id": "004c7034",
   "metadata": {},
   "outputs": [
    {
     "name": "stdout",
     "output_type": "stream",
     "text": [
      "1\n",
      "2\n",
      "3\n",
      "4\n",
      "5\n",
      "6\n",
      "7\n",
      "8\n",
      "9\n",
      "10\n"
     ]
    }
   ],
   "source": [
    "for i in range(1,11):\n",
    "    print(i)"
   ]
  },
  {
   "cell_type": "code",
   "execution_count": 8,
   "id": "80b521f7",
   "metadata": {},
   "outputs": [],
   "source": [
    "def partial_sum_harmonic(n):\n",
    "    s = 0\n",
    "    for i in range(1,n+1):\n",
    "        s = s + 1/i\n",
    "    return s"
   ]
  },
  {
   "cell_type": "code",
   "execution_count": 10,
   "id": "91bf16d1",
   "metadata": {},
   "outputs": [
    {
     "data": {
      "text/plain": [
       "2.9289682539682538"
      ]
     },
     "execution_count": 10,
     "metadata": {},
     "output_type": "execute_result"
    }
   ],
   "source": [
    "partial_sum_harmonic(10)"
   ]
  },
  {
   "cell_type": "code",
   "execution_count": 11,
   "id": "2d5294bf",
   "metadata": {},
   "outputs": [
    {
     "data": {
      "text/plain": [
       "5.187377517639621"
      ]
     },
     "execution_count": 11,
     "metadata": {},
     "output_type": "execute_result"
    }
   ],
   "source": [
    "partial_sum_harmonic(100)"
   ]
  },
  {
   "cell_type": "code",
   "execution_count": 12,
   "id": "0a826ec5",
   "metadata": {},
   "outputs": [
    {
     "data": {
      "text/plain": [
       "7.485470860550343"
      ]
     },
     "execution_count": 12,
     "metadata": {},
     "output_type": "execute_result"
    }
   ],
   "source": [
    "partial_sum_harmonic(1000)"
   ]
  },
  {
   "cell_type": "code",
   "execution_count": 13,
   "id": "45d45de9",
   "metadata": {},
   "outputs": [
    {
     "data": {
      "text/plain": [
       "12.090146129863335"
      ]
     },
     "execution_count": 13,
     "metadata": {},
     "output_type": "execute_result"
    }
   ],
   "source": [
    "partial_sum_harmonic(100000)"
   ]
  },
  {
   "cell_type": "markdown",
   "id": "a1c817c2",
   "metadata": {},
   "source": [
    "## 2 Finite sums in SymPy"
   ]
  },
  {
   "cell_type": "code",
   "execution_count": 14,
   "id": "cdbcef16",
   "metadata": {},
   "outputs": [],
   "source": [
    "import sympy\n",
    "n = sympy.symbols('n')"
   ]
  },
  {
   "cell_type": "markdown",
   "id": "80024e0e",
   "metadata": {},
   "source": [
    "Assume we want to model the 10th partial sum of the harmonic series:\n",
    "$$\\sum_{n=1}^{10} \\frac{1}{n}$$"
   ]
  },
  {
   "cell_type": "markdown",
   "id": "999a4676",
   "metadata": {},
   "source": [
    "We model sums in Sympy by using `sympy.Sum()`. The constructor `Sum()` takes two arguments:\n",
    "- First argument: expression to be summed up (e.g. `1/n`)\n",
    "- Second argument: tuple consisting of three entries:\n",
    "    1. Dummy variable over which my sum runs (in our case: `n`)\n",
    "    2. Lowever limit of my sum (in our case: `1`)\n",
    "    3. Upper limit of my sum (in our case: `10`)"
   ]
  },
  {
   "cell_type": "code",
   "execution_count": 19,
   "id": "df22f62f",
   "metadata": {},
   "outputs": [
    {
     "data": {
      "text/latex": [
       "$\\displaystyle \\sum_{n=1}^{10} \\frac{1}{n}$"
      ],
      "text/plain": [
       "Sum(1/n, (n, 1, 10))"
      ]
     },
     "execution_count": 19,
     "metadata": {},
     "output_type": "execute_result"
    }
   ],
   "source": [
    "S = sympy.Sum(1/n, (n, 1, 10))\n",
    "S"
   ]
  },
  {
   "cell_type": "markdown",
   "id": "c8765cd7",
   "metadata": {},
   "source": [
    "In order to get the value of a sum, we use the method `.doit()`"
   ]
  },
  {
   "cell_type": "code",
   "execution_count": 17,
   "id": "4d1fdae7",
   "metadata": {},
   "outputs": [
    {
     "data": {
      "text/latex": [
       "$\\displaystyle \\frac{7381}{2520}$"
      ],
      "text/plain": [
       "7381/2520"
      ]
     },
     "execution_count": 17,
     "metadata": {},
     "output_type": "execute_result"
    }
   ],
   "source": [
    "S.doit()"
   ]
  },
  {
   "cell_type": "markdown",
   "id": "ebca6451",
   "metadata": {},
   "source": [
    "We can also have the upper or lower limit of our sum to be a symbol:"
   ]
  },
  {
   "cell_type": "code",
   "execution_count": 20,
   "id": "cdf9b6a2",
   "metadata": {},
   "outputs": [],
   "source": [
    "N = sympy.symbols('N')"
   ]
  },
  {
   "cell_type": "code",
   "execution_count": 21,
   "id": "b895f111",
   "metadata": {},
   "outputs": [
    {
     "data": {
      "text/latex": [
       "$\\displaystyle \\sum_{n=1}^{N} \\frac{1}{n}$"
      ],
      "text/plain": [
       "Sum(1/n, (n, 1, N))"
      ]
     },
     "execution_count": 21,
     "metadata": {},
     "output_type": "execute_result"
    }
   ],
   "source": [
    "S2 = sympy.Sum(1/n, (n,1,N))\n",
    "S2"
   ]
  },
  {
   "cell_type": "code",
   "execution_count": 22,
   "id": "2b017a06",
   "metadata": {},
   "outputs": [
    {
     "data": {
      "text/latex": [
       "$\\displaystyle \\operatorname{harmonic}{\\left(N \\right)}$"
      ],
      "text/plain": [
       "harmonic(N)"
      ]
     },
     "execution_count": 22,
     "metadata": {},
     "output_type": "execute_result"
    }
   ],
   "source": [
    "S2.doit()"
   ]
  },
  {
   "cell_type": "markdown",
   "id": "4861b29c",
   "metadata": {},
   "source": [
    "As another example, we look at the Gaussian sum formula\n",
    "$$ \\sum_{n=1}^N n = (N+1) \\cdot \\frac{N}{2}$$"
   ]
  },
  {
   "cell_type": "code",
   "execution_count": 24,
   "id": "ce22a27b",
   "metadata": {},
   "outputs": [
    {
     "data": {
      "text/latex": [
       "$\\displaystyle \\sum_{n=1}^{N} n$"
      ],
      "text/plain": [
       "Sum(n, (n, 1, N))"
      ]
     },
     "execution_count": 24,
     "metadata": {},
     "output_type": "execute_result"
    }
   ],
   "source": [
    "S3 = sympy.Sum(n, (n,1,N))\n",
    "S3"
   ]
  },
  {
   "cell_type": "code",
   "execution_count": 25,
   "id": "65e579d4",
   "metadata": {},
   "outputs": [
    {
     "data": {
      "text/latex": [
       "$\\displaystyle \\frac{N^{2}}{2} + \\frac{N}{2}$"
      ],
      "text/plain": [
       "N**2/2 + N/2"
      ]
     },
     "execution_count": 25,
     "metadata": {},
     "output_type": "execute_result"
    }
   ],
   "source": [
    "S3.doit()"
   ]
  },
  {
   "cell_type": "markdown",
   "id": "aa8eafea",
   "metadata": {},
   "source": [
    "## 3) Series in SymPy"
   ]
  },
  {
   "cell_type": "markdown",
   "id": "df54a5c9",
   "metadata": {},
   "source": [
    "If instead of a finite sum we want to consider an inifite series, we use `sympy.oo` as upper limit."
   ]
  },
  {
   "cell_type": "markdown",
   "id": "a76933b1",
   "metadata": {},
   "source": [
    "**Example**: Geometric series\n",
    "$$\\sum_{n=0}^{\\infty} \\left(\\frac13\\right)^n$$"
   ]
  },
  {
   "cell_type": "code",
   "execution_count": 27,
   "id": "9685b857",
   "metadata": {},
   "outputs": [
    {
     "data": {
      "text/latex": [
       "$\\displaystyle \\sum_{n=0}^{\\infty} 3^{- n}$"
      ],
      "text/plain": [
       "Sum(3**(-n), (n, 0, oo))"
      ]
     },
     "execution_count": 27,
     "metadata": {},
     "output_type": "execute_result"
    }
   ],
   "source": [
    "S4 = sympy.Sum(1/3**n, (n,0, sympy.oo))\n",
    "S4"
   ]
  },
  {
   "cell_type": "code",
   "execution_count": 28,
   "id": "92aa7feb",
   "metadata": {},
   "outputs": [
    {
     "data": {
      "text/latex": [
       "$\\displaystyle \\frac{3}{2}$"
      ],
      "text/plain": [
       "3/2"
      ]
     },
     "execution_count": 28,
     "metadata": {},
     "output_type": "execute_result"
    }
   ],
   "source": [
    "S4.doit()"
   ]
  },
  {
   "cell_type": "markdown",
   "id": "fce8d01e",
   "metadata": {},
   "source": [
    "Of course, SymPy cannot do any miracles. If a series is not convergent or if the value of a convergent series is not known, then it appears that `doit()` does not do anything:"
   ]
  },
  {
   "cell_type": "markdown",
   "id": "9da35d36",
   "metadata": {},
   "source": [
    "**Example**: $\\sum_{n=0}^\\infty (-1)^n$"
   ]
  },
  {
   "cell_type": "code",
   "execution_count": 29,
   "id": "dbd8351f",
   "metadata": {},
   "outputs": [
    {
     "data": {
      "text/latex": [
       "$\\displaystyle \\sum_{n=0}^{\\infty} \\left(-1\\right)^{n}$"
      ],
      "text/plain": [
       "Sum((-1)**n, (n, 0, oo))"
      ]
     },
     "execution_count": 29,
     "metadata": {},
     "output_type": "execute_result"
    }
   ],
   "source": [
    "S5 = sympy.Sum((-1)**n, (n, 0, sympy.oo))\n",
    "S5.doit()"
   ]
  },
  {
   "cell_type": "markdown",
   "id": "4e53a76d",
   "metadata": {},
   "source": [
    "**Example**: Harmonic series"
   ]
  },
  {
   "cell_type": "code",
   "execution_count": 30,
   "id": "34fffedb",
   "metadata": {},
   "outputs": [
    {
     "data": {
      "text/latex": [
       "$\\displaystyle \\sum_{n=1}^{\\infty} \\frac{1}{n}$"
      ],
      "text/plain": [
       "Sum(1/n, (n, 1, oo))"
      ]
     },
     "execution_count": 30,
     "metadata": {},
     "output_type": "execute_result"
    }
   ],
   "source": [
    "S6 = sympy.Sum(1/n, (n,1, sympy.oo))\n",
    "S6"
   ]
  },
  {
   "cell_type": "code",
   "execution_count": 31,
   "id": "ee1ec7bb",
   "metadata": {},
   "outputs": [
    {
     "data": {
      "text/latex": [
       "$\\displaystyle \\infty$"
      ],
      "text/plain": [
       "oo"
      ]
     },
     "execution_count": 31,
     "metadata": {},
     "output_type": "execute_result"
    }
   ],
   "source": [
    "S6.doit()"
   ]
  },
  {
   "cell_type": "markdown",
   "id": "5cf1e28e",
   "metadata": {},
   "source": [
    "**Example**: $$\\sum_{n=1}^\\infty \\frac{1}{\\left(n^2 + n + 1\\right)^3}$$"
   ]
  },
  {
   "cell_type": "code",
   "execution_count": 32,
   "id": "2f558132",
   "metadata": {},
   "outputs": [
    {
     "data": {
      "text/latex": [
       "$\\displaystyle \\sum_{n=1}^{\\infty} \\frac{1}{\\left(n^{2} + n + 1\\right)^{3}}$"
      ],
      "text/plain": [
       "Sum((n**2 + n + 1)**(-3), (n, 1, oo))"
      ]
     },
     "execution_count": 32,
     "metadata": {},
     "output_type": "execute_result"
    }
   ],
   "source": [
    "S7 = sympy.Sum(1/(n**2 + n + 1)**3, (n, 1, sympy.oo))\n",
    "S7"
   ]
  },
  {
   "cell_type": "code",
   "execution_count": 33,
   "id": "650d8cd7",
   "metadata": {},
   "outputs": [
    {
     "data": {
      "text/latex": [
       "$\\displaystyle \\sum_{n=1}^{\\infty} \\frac{1}{\\left(n^{2} + n + 1\\right)^{3}}$"
      ],
      "text/plain": [
       "Sum((n**2 + n + 1)**(-3), (n, 1, oo))"
      ]
     },
     "execution_count": 33,
     "metadata": {},
     "output_type": "execute_result"
    }
   ],
   "source": [
    "S7.doit()"
   ]
  },
  {
   "cell_type": "markdown",
   "id": "eae826e0",
   "metadata": {},
   "source": [
    "If we want to better understand what happens to these examples where `.doit()` does not deliver a result, we can use `.is_convergent()`. This method returns a Boolean which is `True` if the series converges and `False` otherwise."
   ]
  },
  {
   "cell_type": "code",
   "execution_count": 34,
   "id": "f2d7fd2f",
   "metadata": {},
   "outputs": [
    {
     "data": {
      "text/latex": [
       "$\\displaystyle \\sum_{n=0}^{\\infty} \\left(-1\\right)^{n}$"
      ],
      "text/plain": [
       "Sum((-1)**n, (n, 0, oo))"
      ]
     },
     "execution_count": 34,
     "metadata": {},
     "output_type": "execute_result"
    }
   ],
   "source": [
    "S5"
   ]
  },
  {
   "cell_type": "code",
   "execution_count": 35,
   "id": "4220ea58",
   "metadata": {},
   "outputs": [
    {
     "data": {
      "text/latex": [
       "$\\displaystyle \\text{False}$"
      ],
      "text/plain": [
       "False"
      ]
     },
     "execution_count": 35,
     "metadata": {},
     "output_type": "execute_result"
    }
   ],
   "source": [
    "S5.is_convergent()"
   ]
  },
  {
   "cell_type": "code",
   "execution_count": 36,
   "id": "050d2101",
   "metadata": {},
   "outputs": [
    {
     "data": {
      "text/latex": [
       "$\\displaystyle \\sum_{n=1}^{\\infty} \\frac{1}{n}$"
      ],
      "text/plain": [
       "Sum(1/n, (n, 1, oo))"
      ]
     },
     "execution_count": 36,
     "metadata": {},
     "output_type": "execute_result"
    }
   ],
   "source": [
    "S6"
   ]
  },
  {
   "cell_type": "code",
   "execution_count": 37,
   "id": "6dc0ebdb",
   "metadata": {},
   "outputs": [
    {
     "data": {
      "text/latex": [
       "$\\displaystyle \\text{False}$"
      ],
      "text/plain": [
       "False"
      ]
     },
     "execution_count": 37,
     "metadata": {},
     "output_type": "execute_result"
    }
   ],
   "source": [
    "S6.is_convergent()"
   ]
  },
  {
   "cell_type": "code",
   "execution_count": 38,
   "id": "d9e54e88",
   "metadata": {},
   "outputs": [
    {
     "data": {
      "text/latex": [
       "$\\displaystyle \\sum_{n=1}^{\\infty} \\frac{1}{\\left(n^{2} + n + 1\\right)^{3}}$"
      ],
      "text/plain": [
       "Sum((n**2 + n + 1)**(-3), (n, 1, oo))"
      ]
     },
     "execution_count": 38,
     "metadata": {},
     "output_type": "execute_result"
    }
   ],
   "source": [
    "S7"
   ]
  },
  {
   "cell_type": "code",
   "execution_count": 39,
   "id": "29c3ae4f",
   "metadata": {},
   "outputs": [
    {
     "data": {
      "text/latex": [
       "$\\displaystyle \\text{True}$"
      ],
      "text/plain": [
       "True"
      ]
     },
     "execution_count": 39,
     "metadata": {},
     "output_type": "execute_result"
    }
   ],
   "source": [
    "S7.is_convergent()"
   ]
  },
  {
   "cell_type": "code",
   "execution_count": null,
   "id": "7f4a6c06",
   "metadata": {},
   "outputs": [],
   "source": []
  }
 ],
 "metadata": {
  "kernelspec": {
   "display_name": "maths-egm",
   "language": "python",
   "name": "maths-egm"
  },
  "language_info": {
   "codemirror_mode": {
    "name": "ipython",
    "version": 3
   },
   "file_extension": ".py",
   "mimetype": "text/x-python",
   "name": "python",
   "nbconvert_exporter": "python",
   "pygments_lexer": "ipython3",
   "version": "3.10.6"
  }
 },
 "nbformat": 4,
 "nbformat_minor": 5
}
