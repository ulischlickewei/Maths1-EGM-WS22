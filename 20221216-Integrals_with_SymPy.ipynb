{
 "cells": [
  {
   "cell_type": "markdown",
   "id": "b38b70fb",
   "metadata": {},
   "source": [
    "## Computing integrals with SymPy"
   ]
  },
  {
   "cell_type": "markdown",
   "id": "07a338f3",
   "metadata": {},
   "source": [
    "The function `integrate()` from SymPy allows us to compute integrals symbolically in Python."
   ]
  },
  {
   "cell_type": "markdown",
   "id": "541efd43",
   "metadata": {},
   "source": [
    "**Example:** Compute $$\\int_0^1 x \\cdot \\cos(x) \\text{d}x.$$"
   ]
  },
  {
   "cell_type": "code",
   "execution_count": 2,
   "id": "5bbe96a8",
   "metadata": {},
   "outputs": [],
   "source": [
    "import sympy as sy\n",
    "x = sy.symbols('x')"
   ]
  },
  {
   "cell_type": "code",
   "execution_count": 4,
   "id": "baed322a",
   "metadata": {},
   "outputs": [
    {
     "data": {
      "text/latex": [
       "$\\displaystyle x \\sin{\\left(x \\right)} + \\cos{\\left(x \\right)}$"
      ],
      "text/plain": [
       "x*sin(x) + cos(x)"
      ]
     },
     "execution_count": 4,
     "metadata": {},
     "output_type": "execute_result"
    }
   ],
   "source": [
    "# Calling integrate with two arguments: \n",
    "# a) an algebraic expression as integrand\n",
    "# b) the variable of integration (a symbol)\n",
    "# --> result: antiderivative of the integrand\n",
    "sy.integrate(x*sy.cos(x), x)"
   ]
  },
  {
   "cell_type": "code",
   "execution_count": 8,
   "id": "e752a3fc",
   "metadata": {},
   "outputs": [
    {
     "data": {
      "text/latex": [
       "$\\displaystyle -1 + \\cos{\\left(1 \\right)} + \\sin{\\left(1 \\right)}$"
      ],
      "text/plain": [
       "-1 + cos(1) + sin(1)"
      ]
     },
     "execution_count": 8,
     "metadata": {},
     "output_type": "execute_result"
    }
   ],
   "source": [
    "# Calling integrate with two additional arguments:\n",
    "# c) lower limit of integration (here: 0)\n",
    "# d) upper limit of integration (here: 1)\n",
    "# NOTE: arguments b), c) and d) have to be clustered to a tuple\n",
    "sy.integrate(x*sy.cos(x), (x, 0, 1))"
   ]
  },
  {
   "cell_type": "code",
   "execution_count": 9,
   "id": "a79dfb06",
   "metadata": {},
   "outputs": [
    {
     "data": {
      "text/latex": [
       "$\\displaystyle 0.381773290676036$"
      ],
      "text/plain": [
       "0.381773290676036"
      ]
     },
     "execution_count": 9,
     "metadata": {},
     "output_type": "execute_result"
    }
   ],
   "source": [
    "# to get the floating point value\n",
    "sy.integrate(x*sy.cos(x), (x, 0, 1)).evalf()"
   ]
  },
  {
   "cell_type": "markdown",
   "id": "4772602b",
   "metadata": {},
   "source": [
    "### Improper integrals with SymPy"
   ]
  },
  {
   "cell_type": "markdown",
   "id": "ab9b435f",
   "metadata": {},
   "source": [
    "**Example**: Compute\n",
    "$$\\int_{1}^{\\infty} \\frac{\\ln(x)}{x^2} \\text{d}x.$$"
   ]
  },
  {
   "cell_type": "code",
   "execution_count": 10,
   "id": "57075382",
   "metadata": {},
   "outputs": [
    {
     "data": {
      "text/latex": [
       "$\\displaystyle 1$"
      ],
      "text/plain": [
       "1"
      ]
     },
     "execution_count": 10,
     "metadata": {},
     "output_type": "execute_result"
    }
   ],
   "source": [
    "sy.integrate(sy.log(x)/x**2, (x, 1, sy.oo))"
   ]
  },
  {
   "cell_type": "markdown",
   "id": "2881c7ad",
   "metadata": {},
   "source": [
    "### Integrands for which no primitive function can be expressed by an elementary function"
   ]
  },
  {
   "cell_type": "markdown",
   "id": "2d33c325",
   "metadata": {},
   "source": [
    "**Example**: $$\\int \\text{e}^{-x^2} \\text{d}x$$"
   ]
  },
  {
   "cell_type": "code",
   "execution_count": 12,
   "id": "b641c40a",
   "metadata": {},
   "outputs": [
    {
     "data": {
      "text/plain": [
       "[<matplotlib.lines.Line2D at 0x115424310>]"
      ]
     },
     "execution_count": 12,
     "metadata": {},
     "output_type": "execute_result"
    },
    {
     "data": {
      "image/png": "[encoded data removed]",
      "text/plain": [
       "<Figure size 640x480 with 1 Axes>"
      ]
     },
     "metadata": {},
     "output_type": "display_data"
    }
   ],
   "source": [
    "import matplotlib.pyplot as plt\n",
    "import numpy as np\n",
    "\n",
    "x = np.linspace(-2,2,100)\n",
    "y = np.exp(-x**2)\n",
    "plt.plot(x,y)"
   ]
  },
  {
   "cell_type": "code",
   "execution_count": 14,
   "id": "7c4fc897",
   "metadata": {},
   "outputs": [
    {
     "data": {
      "text/latex": [
       "$\\displaystyle \\frac{\\sqrt{\\pi} \\operatorname{erf}{\\left(1 \\right)}}{2} + \\frac{\\sqrt{\\pi} \\operatorname{erf}{\\left(3 \\right)}}{2}$"
      ],
      "text/plain": [
       "sqrt(pi)*erf(1)/2 + sqrt(pi)*erf(3)/2"
      ]
     },
     "execution_count": 14,
     "metadata": {},
     "output_type": "execute_result"
    }
   ],
   "source": [
    "x = sy.symbols('x')\n",
    "sy.integrate(sy.exp(-x**2),(x,-1,3))"
   ]
  },
  {
   "cell_type": "markdown",
   "id": "cefc296b",
   "metadata": {},
   "source": [
    "**Example 2:** Compute an approximate value for\n",
    "$$\\int_{0}^2 \\text{e}^{\\sin(x)} \\text{d}x.$$"
   ]
  },
  {
   "cell_type": "code",
   "execution_count": 15,
   "id": "b2f46aba",
   "metadata": {},
   "outputs": [
    {
     "data": {
      "text/latex": [
       "$\\displaystyle \\int\\limits_{0}^{2} e^{\\sin{\\left(x \\right)}}\\, dx$"
      ],
      "text/plain": [
       "Integral(exp(sin(x)), (x, 0, 2))"
      ]
     },
     "execution_count": 15,
     "metadata": {},
     "output_type": "execute_result"
    }
   ],
   "source": [
    "sy.integrate(sy.exp(sy.sin(x)),(x,0,2))"
   ]
  },
  {
   "cell_type": "code",
   "execution_count": 18,
   "id": "93a28d85",
   "metadata": {},
   "outputs": [
    {
     "data": {
      "text/latex": [
       "$\\displaystyle 4.23653115722101$"
      ],
      "text/plain": [
       "4.23653115722101"
      ]
     },
     "execution_count": 18,
     "metadata": {},
     "output_type": "execute_result"
    }
   ],
   "source": [
    "sy.integrate(sy.exp(sy.sin(x)),(x,0,2)).evalf()"
   ]
  },
  {
   "cell_type": "markdown",
   "id": "4910be59",
   "metadata": {},
   "source": [
    "In order to get an approximate value for the integral, we can use (a slight modification) of our `lower_sum()` function from last week:"
   ]
  },
  {
   "cell_type": "code",
   "execution_count": 23,
   "id": "9225eab9",
   "metadata": {},
   "outputs": [],
   "source": [
    "import math\n",
    "\n",
    "def fun_f(x):\n",
    "    return math.exp(math.sin(x))\n",
    "\n",
    "def lower_sum(fun, n,a,b):\n",
    "    delta_n = (b-a)/n\n",
    "    riemann_sum = 0\n",
    "    for i in range(n):\n",
    "        xi = a + i*delta_n\n",
    "        #print(i, xi, fun(xi))\n",
    "        riemann_sum += fun(xi)*delta_n # computes the area one of the bars\n",
    "    return riemann_sum"
   ]
  },
  {
   "cell_type": "code",
   "execution_count": 24,
   "id": "eac05b58",
   "metadata": {},
   "outputs": [
    {
     "data": {
      "text/plain": [
       "4.22163760856246"
      ]
     },
     "execution_count": 24,
     "metadata": {},
     "output_type": "execute_result"
    }
   ],
   "source": [
    "lower_sum(fun_f,100,0,2)"
   ]
  },
  {
   "cell_type": "markdown",
   "id": "42f56ae2",
   "metadata": {},
   "source": [
    "There are of course much more elaborate and precise methods to compute integrals numerically. One very good package for this task is `SciPy`."
   ]
  },
  {
   "cell_type": "code",
   "execution_count": 25,
   "id": "c5136566",
   "metadata": {},
   "outputs": [
    {
     "name": "stdout",
     "output_type": "stream",
     "text": [
      "Collecting package metadata (current_repodata.json): done\n",
      "Solving environment: done\n",
      "\n",
      "# All requested packages already installed.\n",
      "\n",
      "Retrieving notices: ...working... done\n"
     ]
    }
   ],
   "source": [
    "import sys\n",
    "!conda install --yes --prefix {sys.prefix} scipy"
   ]
  },
  {
   "cell_type": "code",
   "execution_count": 28,
   "id": "ffbff574",
   "metadata": {},
   "outputs": [],
   "source": [
    "from scipy.integrate import quad"
   ]
  },
  {
   "cell_type": "code",
   "execution_count": 29,
   "id": "e306914f",
   "metadata": {},
   "outputs": [
    {
     "data": {
      "text/plain": [
       "(4.23653115722101, 4.7034944352886244e-14)"
      ]
     },
     "execution_count": 29,
     "metadata": {},
     "output_type": "execute_result"
    }
   ],
   "source": [
    "quad(fun_f, 0,2)"
   ]
  },
  {
   "cell_type": "code",
   "execution_count": null,
   "id": "9a67ee29",
   "metadata": {},
   "outputs": [],
   "source": []
  }
 ],
 "metadata": {
  "kernelspec": {
   "display_name": "maths-egm",
   "language": "python",
   "name": "maths-egm"
  },
  "language_info": {
   "codemirror_mode": {
    "name": "ipython",
    "version": 3
   },
   "file_extension": ".py",
   "mimetype": "text/x-python",
   "name": "python",
   "nbconvert_exporter": "python",
   "pygments_lexer": "ipython3",
   "version": "3.10.6"
  }
 },
 "nbformat": 4,
 "nbformat_minor": 5
}
