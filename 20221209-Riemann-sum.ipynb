{
 "cells": [
  {
   "cell_type": "markdown",
   "id": "c4b16496",
   "metadata": {},
   "source": [
    "**Exercise**: Program a function `lower_sum(n,a,b)` which computes the lower Riemann sum of the function $f(x) = \\frac13 x^2$ in the interval $[a,b]$. Here, $n$ is the number of intermediate point in the interval used for the Riemann sum."
   ]
  },
  {
   "cell_type": "markdown",
   "id": "b649157c",
   "metadata": {},
   "source": [
    "Consider a Riemann sum\n",
    "$$\\sum_{i=0}^n f(x_i) \\cdot \\Delta_n$$\n",
    "with $x_i$ being the point in the $i$-th subinterval and $\\Delta_n$ being the width of the subinterval.\n",
    "\n",
    "Such a Riemann sum is a lower Riemann sum if $x_i$ is the lower boundary of the $i$-th subinterval."
   ]
  },
  {
   "cell_type": "code",
   "execution_count": 5,
   "id": "5ef66a60",
   "metadata": {},
   "outputs": [],
   "source": [
    "def lower_sum(n,a,b):\n",
    "    delta_n = (b-a)/n\n",
    "    riemann_sum = 0\n",
    "    for i in range(n):\n",
    "        xi = a + i*delta_n\n",
    "        #print(i, xi, 1/3*(xi)**2)\n",
    "        riemann_sum += 1/3*(xi)**2 * delta_n\n",
    "    return riemann_sum"
   ]
  },
  {
   "cell_type": "code",
   "execution_count": 6,
   "id": "bc7c76d9",
   "metadata": {},
   "outputs": [
    {
     "name": "stdout",
     "output_type": "stream",
     "text": [
      "0 1.0 0.3333333333333333\n",
      "1 2.0 1.3333333333333333\n"
     ]
    },
    {
     "data": {
      "text/plain": [
       "1.6666666666666665"
      ]
     },
     "execution_count": 6,
     "metadata": {},
     "output_type": "execute_result"
    }
   ],
   "source": [
    "lower_sum(2,1,3)"
   ]
  },
  {
   "cell_type": "code",
   "execution_count": null,
   "id": "f839d889",
   "metadata": {},
   "outputs": [],
   "source": []
  }
 ],
 "metadata": {
  "kernelspec": {
   "display_name": "maths-egm",
   "language": "python",
   "name": "maths-egm"
  },
  "language_info": {
   "codemirror_mode": {
    "name": "ipython",
    "version": 3
   },
   "file_extension": ".py",
   "mimetype": "text/x-python",
   "name": "python",
   "nbconvert_exporter": "python",
   "pygments_lexer": "ipython3",
   "version": "3.10.6"
  }
 },
 "nbformat": 4,
 "nbformat_minor": 5
}
