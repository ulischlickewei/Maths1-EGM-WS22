{
 "cells": [
  {
   "cell_type": "markdown",
   "id": "00c21b3e",
   "metadata": {},
   "source": [
    "# 1) SymPy\n",
    "In order to work with algebraic equations in Python, we need to learn basics on symbolic mathematics in Python and the module `sympy`."
   ]
  },
  {
   "cell_type": "code",
   "execution_count": 6,
   "id": "76c6f3ef",
   "metadata": {},
   "outputs": [],
   "source": [
    "# We start by importing the Math and the Sympy module\n",
    "import math, sympy"
   ]
  },
  {
   "cell_type": "markdown",
   "id": "a39def7c",
   "metadata": {},
   "source": [
    "We start our exploration of SymPy by a simple observation. We compute the square root of 2 using the `math` module. As expected we obtain a floating point number with value 1.41...\n",
    "\n",
    "Next, we \"compute\" the square root of 2 using the `sympy` function `sqrt()`. This time we get a value $\\sqrt{2}$ which represents the *exact* value."
   ]
  },
  {
   "cell_type": "markdown",
   "id": "495e58c3",
   "metadata": {},
   "source": [
    "## 1.1: Symbolic vs. numeric arithmetic"
   ]
  },
  {
   "cell_type": "code",
   "execution_count": 7,
   "id": "4628d4cb",
   "metadata": {},
   "outputs": [
    {
     "data": {
      "text/plain": [
       "1.4142135623730951"
      ]
     },
     "execution_count": 7,
     "metadata": {},
     "output_type": "execute_result"
    }
   ],
   "source": [
    "math.sqrt(2)"
   ]
  },
  {
   "cell_type": "code",
   "execution_count": 3,
   "id": "9402cf3c",
   "metadata": {},
   "outputs": [
    {
     "data": {
      "text/latex": [
       "$\\displaystyle \\sqrt{2}$"
      ],
      "text/plain": [
       "sqrt(2)"
      ]
     },
     "execution_count": 3,
     "metadata": {},
     "output_type": "execute_result"
    }
   ],
   "source": [
    "sympy.sqrt(2)"
   ]
  },
  {
   "cell_type": "markdown",
   "id": "25e4e0b8",
   "metadata": {},
   "source": [
    "By squaring these two, we see the difference between a floating point representation and a representation as an exact value."
   ]
  },
  {
   "cell_type": "code",
   "execution_count": 14,
   "id": "7f15c633",
   "metadata": {},
   "outputs": [
    {
     "data": {
      "text/plain": [
       "2.0000000000000004"
      ]
     },
     "execution_count": 14,
     "metadata": {},
     "output_type": "execute_result"
    }
   ],
   "source": [
    "math.sqrt(2)**2"
   ]
  },
  {
   "cell_type": "code",
   "execution_count": 15,
   "id": "6b82005c",
   "metadata": {},
   "outputs": [
    {
     "data": {
      "text/latex": [
       "$\\displaystyle 2$"
      ],
      "text/plain": [
       "2"
      ]
     },
     "execution_count": 15,
     "metadata": {},
     "output_type": "execute_result"
    }
   ],
   "source": [
    "sympy.sqrt(2)**2"
   ]
  },
  {
   "cell_type": "markdown",
   "id": "9a31dc68",
   "metadata": {},
   "source": [
    "Let's look at two further examples of roots in `SymPy`:"
   ]
  },
  {
   "cell_type": "code",
   "execution_count": 11,
   "id": "a7501c4c",
   "metadata": {},
   "outputs": [
    {
     "data": {
      "text/latex": [
       "$\\displaystyle 3$"
      ],
      "text/plain": [
       "3"
      ]
     },
     "execution_count": 11,
     "metadata": {},
     "output_type": "execute_result"
    }
   ],
   "source": [
    "sympy.sqrt(9)"
   ]
  },
  {
   "cell_type": "code",
   "execution_count": 12,
   "id": "e47fb190",
   "metadata": {},
   "outputs": [
    {
     "data": {
      "text/latex": [
       "$\\displaystyle 2 \\sqrt{2}$"
      ],
      "text/plain": [
       "2*sqrt(2)"
      ]
     },
     "execution_count": 12,
     "metadata": {},
     "output_type": "execute_result"
    }
   ],
   "source": [
    "sympy.sqrt(8)"
   ]
  },
  {
   "cell_type": "markdown",
   "id": "fe19d9ec",
   "metadata": {},
   "source": [
    "The `SymPy` method `evalf()` (or equivalently the function `sympy.N()`) forces to compute the value as a floating point number:"
   ]
  },
  {
   "cell_type": "code",
   "execution_count": 18,
   "id": "25d917e0",
   "metadata": {},
   "outputs": [
    {
     "data": {
      "text/latex": [
       "$\\displaystyle 2.82842712474619$"
      ],
      "text/plain": [
       "2.82842712474619"
      ]
     },
     "execution_count": 18,
     "metadata": {},
     "output_type": "execute_result"
    }
   ],
   "source": [
    "sympy.sqrt(8).evalf()"
   ]
  },
  {
   "cell_type": "code",
   "execution_count": 20,
   "id": "f8603f3d",
   "metadata": {},
   "outputs": [
    {
     "data": {
      "text/latex": [
       "$\\displaystyle 2.82842712474619$"
      ],
      "text/plain": [
       "2.82842712474619"
      ]
     },
     "execution_count": 20,
     "metadata": {},
     "output_type": "execute_result"
    }
   ],
   "source": [
    "sympy.N(sympy.sqrt(8))"
   ]
  },
  {
   "cell_type": "markdown",
   "id": "2bb13ba6",
   "metadata": {},
   "source": [
    "If `floats` are passed as arguments to `SymPy`, then `SymPy` will do *numeric* calculations instead of symbolic calculations:"
   ]
  },
  {
   "cell_type": "code",
   "execution_count": 23,
   "id": "a0d4095a",
   "metadata": {},
   "outputs": [
    {
     "data": {
      "text/latex": [
       "$\\displaystyle 2.82842712474619$"
      ],
      "text/plain": [
       "2.82842712474619"
      ]
     },
     "execution_count": 23,
     "metadata": {},
     "output_type": "execute_result"
    }
   ],
   "source": [
    "sympy.sqrt(8.0)"
   ]
  },
  {
   "cell_type": "code",
   "execution_count": 26,
   "id": "55e4fe9b",
   "metadata": {},
   "outputs": [
    {
     "data": {
      "text/latex": [
       "$\\displaystyle 2.0$"
      ],
      "text/plain": [
       "2.00000000000000"
      ]
     },
     "execution_count": 26,
     "metadata": {},
     "output_type": "execute_result"
    }
   ],
   "source": [
    "sympy.sqrt(8/2)"
   ]
  },
  {
   "cell_type": "markdown",
   "id": "17aec87e",
   "metadata": {},
   "source": [
    "The function `SymPy.sympify()` can help to get over this problem. (In the next cell, note that applying the `sympify()` function to $8$ makes a `SymPy` number out of $8$. Dividing this by $2$ does not change this."
   ]
  },
  {
   "cell_type": "code",
   "execution_count": 28,
   "id": "de830ba2",
   "metadata": {},
   "outputs": [
    {
     "data": {
      "text/latex": [
       "$\\displaystyle 2$"
      ],
      "text/plain": [
       "2"
      ]
     },
     "execution_count": 28,
     "metadata": {},
     "output_type": "execute_result"
    }
   ],
   "source": [
    "sympy.sqrt(sympy.sympify(8)/2)"
   ]
  },
  {
   "cell_type": "code",
   "execution_count": 30,
   "id": "fc33344d",
   "metadata": {},
   "outputs": [
    {
     "data": {
      "text/plain": [
       "sympy.core.numbers.Integer"
      ]
     },
     "execution_count": 30,
     "metadata": {},
     "output_type": "execute_result"
    }
   ],
   "source": [
    "\n",
    "type(sympy.sympify(8))"
   ]
  },
  {
   "cell_type": "code",
   "execution_count": 32,
   "id": "91e6eecf",
   "metadata": {},
   "outputs": [
    {
     "data": {
      "text/latex": [
       "$\\displaystyle \\frac{8}{7}$"
      ],
      "text/plain": [
       "8/7"
      ]
     },
     "execution_count": 32,
     "metadata": {},
     "output_type": "execute_result"
    }
   ],
   "source": [
    "sympy.sympify(8)/7"
   ]
  },
  {
   "cell_type": "markdown",
   "id": "780934d4",
   "metadata": {},
   "source": [
    "## 1.2: Symbols in SymPy"
   ]
  },
  {
   "cell_type": "markdown",
   "id": "6152fc6c",
   "metadata": {},
   "source": [
    "`SymPy` allows us to define *symbols*. These are treated as variables."
   ]
  },
  {
   "cell_type": "code",
   "execution_count": 33,
   "id": "c15133e6",
   "metadata": {},
   "outputs": [
    {
     "data": {
      "text/latex": [
       "$\\displaystyle x$"
      ],
      "text/plain": [
       "x"
      ]
     },
     "execution_count": 33,
     "metadata": {},
     "output_type": "execute_result"
    }
   ],
   "source": [
    "x = sympy.symbols('x')\n",
    "x"
   ]
  },
  {
   "cell_type": "code",
   "execution_count": 36,
   "id": "b13dbbb4",
   "metadata": {},
   "outputs": [
    {
     "data": {
      "text/latex": [
       "$\\displaystyle x$"
      ],
      "text/plain": [
       "x"
      ]
     },
     "execution_count": 36,
     "metadata": {},
     "output_type": "execute_result"
    }
   ],
   "source": [
    "x = sympy.symbols('x')\n",
    "x"
   ]
  },
  {
   "cell_type": "markdown",
   "id": "f491434f",
   "metadata": {},
   "source": [
    "Symblos allow us to define more complex expressions."
   ]
  },
  {
   "cell_type": "code",
   "execution_count": 46,
   "id": "4faf06fc",
   "metadata": {},
   "outputs": [
    {
     "data": {
      "text/latex": [
       "$\\displaystyle x^{2} + 3 x + 7$"
      ],
      "text/plain": [
       "x**2 + 3*x + 7"
      ]
     },
     "execution_count": 46,
     "metadata": {},
     "output_type": "execute_result"
    }
   ],
   "source": [
    "p = x**2 + 3*x + 7\n",
    "p"
   ]
  },
  {
   "cell_type": "markdown",
   "id": "cb790738",
   "metadata": {},
   "source": [
    "We can do computations with symbols:"
   ]
  },
  {
   "cell_type": "code",
   "execution_count": 48,
   "id": "ce54f9fa",
   "metadata": {},
   "outputs": [
    {
     "data": {
      "text/latex": [
       "$\\displaystyle \\left(x + 2\\right) \\left(x^{2} + 3 x + 7\\right)$"
      ],
      "text/plain": [
       "(x + 2)*(x**2 + 3*x + 7)"
      ]
     },
     "execution_count": 48,
     "metadata": {},
     "output_type": "execute_result"
    }
   ],
   "source": [
    "r = p * (x+2)\n",
    "r"
   ]
  },
  {
   "cell_type": "markdown",
   "id": "a59ee6d1",
   "metadata": {},
   "source": [
    "The methods `expand()` and `simplify()` ask `SymPy` to perform multiplications respectively to simplify expressions:"
   ]
  },
  {
   "cell_type": "code",
   "execution_count": 49,
   "id": "bcc4c65e",
   "metadata": {},
   "outputs": [
    {
     "data": {
      "text/latex": [
       "$\\displaystyle x^{3} + 5 x^{2} + 13 x + 14$"
      ],
      "text/plain": [
       "x**3 + 5*x**2 + 13*x + 14"
      ]
     },
     "execution_count": 49,
     "metadata": {},
     "output_type": "execute_result"
    }
   ],
   "source": [
    "r.expand()"
   ]
  },
  {
   "cell_type": "code",
   "execution_count": 53,
   "id": "c34f4243",
   "metadata": {},
   "outputs": [
    {
     "data": {
      "text/latex": [
       "$\\displaystyle \\frac{x^{2} - 1}{x + 1}$"
      ],
      "text/plain": [
       "(x**2 - 1)/(x + 1)"
      ]
     },
     "execution_count": 53,
     "metadata": {},
     "output_type": "execute_result"
    }
   ],
   "source": [
    "s = (x**2 - 1)/ (x+1)\n",
    "s"
   ]
  },
  {
   "cell_type": "code",
   "execution_count": 54,
   "id": "822974d4",
   "metadata": {},
   "outputs": [
    {
     "data": {
      "text/latex": [
       "$\\displaystyle x - 1$"
      ],
      "text/plain": [
       "x - 1"
      ]
     },
     "execution_count": 54,
     "metadata": {},
     "output_type": "execute_result"
    }
   ],
   "source": [
    "s.simplify()"
   ]
  },
  {
   "cell_type": "markdown",
   "id": "9b105d51",
   "metadata": {},
   "source": [
    "## 1.3: Complex numbers in SymPy"
   ]
  },
  {
   "cell_type": "markdown",
   "id": "5df73cd7",
   "metadata": {},
   "source": [
    "Complex numbers can be processed in `SymPy`. The imaginary unit goes under the name `sympy.I`:"
   ]
  },
  {
   "cell_type": "code",
   "execution_count": 57,
   "id": "f645bf78",
   "metadata": {},
   "outputs": [
    {
     "data": {
      "text/latex": [
       "$\\displaystyle -1$"
      ],
      "text/plain": [
       "-1"
      ]
     },
     "execution_count": 57,
     "metadata": {},
     "output_type": "execute_result"
    }
   ],
   "source": [
    "(sympy.I)**2"
   ]
  },
  {
   "cell_type": "code",
   "execution_count": 56,
   "id": "9080d8e0",
   "metadata": {},
   "outputs": [
    {
     "data": {
      "text/latex": [
       "$\\displaystyle 2 + i$"
      ],
      "text/plain": [
       "2 + I"
      ]
     },
     "execution_count": 56,
     "metadata": {},
     "output_type": "execute_result"
    }
   ],
   "source": [
    "z = 2 + sympy.I\n",
    "z"
   ]
  },
  {
   "cell_type": "markdown",
   "id": "960f4bc0",
   "metadata": {},
   "source": [
    "Computations with complex numbers in Python work as expected."
   ]
  },
  {
   "cell_type": "code",
   "execution_count": 59,
   "id": "21d8e453",
   "metadata": {},
   "outputs": [
    {
     "data": {
      "text/latex": [
       "$\\displaystyle 3 - 2.5 i$"
      ],
      "text/plain": [
       "3 - 2.5*I"
      ]
     },
     "execution_count": 59,
     "metadata": {},
     "output_type": "execute_result"
    }
   ],
   "source": [
    "w = 3 - 2.5*sympy.I\n",
    "w"
   ]
  },
  {
   "cell_type": "code",
   "execution_count": 60,
   "id": "91f0d6c2",
   "metadata": {},
   "outputs": [
    {
     "data": {
      "text/latex": [
       "$\\displaystyle \\left(2 + i\\right) \\left(3 - 2.5 i\\right)$"
      ],
      "text/plain": [
       "(2 + I)*(3 - 2.5*I)"
      ]
     },
     "execution_count": 60,
     "metadata": {},
     "output_type": "execute_result"
    }
   ],
   "source": [
    "z*w"
   ]
  },
  {
   "cell_type": "code",
   "execution_count": 62,
   "id": "1306198a",
   "metadata": {},
   "outputs": [
    {
     "data": {
      "text/latex": [
       "$\\displaystyle 8.5 - 2.0 i$"
      ],
      "text/plain": [
       "8.5 - 2.0*I"
      ]
     },
     "execution_count": 62,
     "metadata": {},
     "output_type": "execute_result"
    }
   ],
   "source": [
    "(z*w).expand()"
   ]
  },
  {
   "cell_type": "code",
   "execution_count": 63,
   "id": "dc1de9ee",
   "metadata": {},
   "outputs": [
    {
     "data": {
      "text/latex": [
       "$\\displaystyle \\sqrt{5}$"
      ],
      "text/plain": [
       "sqrt(5)"
      ]
     },
     "execution_count": 63,
     "metadata": {},
     "output_type": "execute_result"
    }
   ],
   "source": [
    "abs(z)"
   ]
  },
  {
   "cell_type": "markdown",
   "id": "23efa417",
   "metadata": {},
   "source": [
    "## Algebraic equations in SymPy"
   ]
  },
  {
   "cell_type": "markdown",
   "id": "5b8127cb",
   "metadata": {},
   "source": [
    "Using `solve()` we can determine zeros of algebraic equations."
   ]
  },
  {
   "cell_type": "code",
   "execution_count": 79,
   "id": "9fe8d7f4",
   "metadata": {},
   "outputs": [],
   "source": [
    "z = sympy.symbols(\"z\")"
   ]
  },
  {
   "cell_type": "code",
   "execution_count": 80,
   "id": "de543c2d",
   "metadata": {},
   "outputs": [
    {
     "data": {
      "text/plain": [
       "[-2,\n",
       " 1/2 + sqrt(5)/2 + 2*I*sqrt(5/8 - sqrt(5)/8),\n",
       " -sqrt(5)/2 + 1/2 - sqrt(5)*I*sqrt(5/8 - sqrt(5)/8) - I*sqrt(5/8 - sqrt(5)/8),\n",
       " 1/2 + 2*sqrt(5/8 - sqrt(5)/8)*sqrt(sqrt(5)/8 + 5/8) - sqrt(5)*I*sqrt(sqrt(5)/8 + 5/8)/2 - I*sqrt(sqrt(5)/8 + 5/8)/2 - I*sqrt(5/8 - sqrt(5)/8)/2 + sqrt(5)*I*sqrt(5/8 - sqrt(5)/8)/2,\n",
       " -2*sqrt(5/8 - sqrt(5)/8)*sqrt(sqrt(5)/8 + 5/8) + 1/2 - I*sqrt(5/8 - sqrt(5)/8)/2 + I*sqrt(sqrt(5)/8 + 5/8)/2 + sqrt(5)*I*sqrt(5/8 - sqrt(5)/8)/2 + sqrt(5)*I*sqrt(sqrt(5)/8 + 5/8)/2]"
      ]
     },
     "execution_count": 80,
     "metadata": {},
     "output_type": "execute_result"
    }
   ],
   "source": [
    "sympy.solve(z**5+32)"
   ]
  },
  {
   "cell_type": "code",
   "execution_count": 81,
   "id": "b3aaabf7",
   "metadata": {},
   "outputs": [
    {
     "data": {
      "text/plain": [
       "[1, 1 - I, 1 + I]"
      ]
     },
     "execution_count": 81,
     "metadata": {},
     "output_type": "execute_result"
    }
   ],
   "source": [
    "sympy.solve(z**3 - 3*z**2 + 4*z - 2)"
   ]
  },
  {
   "cell_type": "markdown",
   "id": "5d454fcd",
   "metadata": {},
   "source": [
    "It is also possible to factor polynomials in linear factors:"
   ]
  },
  {
   "cell_type": "code",
   "execution_count": 82,
   "id": "bcc46a00",
   "metadata": {},
   "outputs": [],
   "source": [
    "p = z**3 - 3*z**2 + 4*z -2"
   ]
  },
  {
   "cell_type": "code",
   "execution_count": 85,
   "id": "8361bc59",
   "metadata": {},
   "outputs": [
    {
     "data": {
      "text/plain": [
       "{1: 1, 1 - I: 1, 1 + I: 1}"
      ]
     },
     "execution_count": 85,
     "metadata": {},
     "output_type": "execute_result"
    }
   ],
   "source": [
    "sympy.roots(p)"
   ]
  },
  {
   "cell_type": "code",
   "execution_count": 83,
   "id": "41a01b3c",
   "metadata": {},
   "outputs": [
    {
     "data": {
      "text/latex": [
       "$\\displaystyle \\left(z - 1\\right) \\left(z - 1 - i\\right) \\left(z - 1 + i\\right)$"
      ],
      "text/plain": [
       "(z - 1)*(z - 1 - I)*(z - 1 + I)"
      ]
     },
     "execution_count": 83,
     "metadata": {},
     "output_type": "execute_result"
    }
   ],
   "source": [
    "sympy.factor(p, extension = sympy.roots(p))"
   ]
  },
  {
   "cell_type": "markdown",
   "id": "d2b9d33a",
   "metadata": {},
   "source": [
    "Here, the option `extension = sympy.roots(p)` means that in addition to rational numbers we admit coefficients which can be computed out of the zeros of the polynomial itself."
   ]
  }
 ],
 "metadata": {
  "kernelspec": {
   "display_name": "maths-egm",
   "language": "python",
   "name": "maths-egm"
  },
  "language_info": {
   "codemirror_mode": {
    "name": "ipython",
    "version": 3
   },
   "file_extension": ".py",
   "mimetype": "text/x-python",
   "name": "python",
   "nbconvert_exporter": "python",
   "pygments_lexer": "ipython3",
   "version": "3.10.6"
  }
 },
 "nbformat": 4,
 "nbformat_minor": 5
}
