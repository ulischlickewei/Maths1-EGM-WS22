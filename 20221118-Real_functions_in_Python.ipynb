{
 "cells": [
  {
   "cell_type": "markdown",
   "id": "26c786dc",
   "metadata": {},
   "source": [
    "# Real functions in Python"
   ]
  },
  {
   "cell_type": "markdown",
   "id": "db954fa8",
   "metadata": {},
   "source": [
    "## 1. Installing NumPy and Matplotlib"
   ]
  },
  {
   "cell_type": "markdown",
   "id": "7e769783",
   "metadata": {},
   "source": [
    "In this chapter we will need the Python packages NumPy and Matplotlib. If you are using Google Colab you can jump directly to Section 2. as these are installed in Colab.\n",
    "\n",
    "If on the other hand you are using a local installation, the easiest way to see if these are already installed is to run the following two cells:"
   ]
  },
  {
   "cell_type": "code",
   "execution_count": null,
   "id": "c03179be",
   "metadata": {},
   "outputs": [],
   "source": [
    "# imports the NumPy package and abbreviates the NumPy namespace as np\n",
    "import numpy as np"
   ]
  },
  {
   "cell_type": "code",
   "execution_count": null,
   "id": "ba57a52f",
   "metadata": {},
   "outputs": [],
   "source": [
    "# imports the PyPlot package from Matplotlib and abbreiatves\n",
    "# the corresponding namespace as plt\n",
    "from matplotlib import pyplot as plt"
   ]
  },
  {
   "cell_type": "markdown",
   "id": "5a52cb8b",
   "metadata": {},
   "source": [
    "If any of the commands above led to an error message (e.g. \"Module not found\"), then follow the instructions below. We distinguish 2 different cases:\n",
    "\n",
    "1a. Installation through Anaconda\n",
    "\n",
    "1b. Other type of installation"
   ]
  },
  {
   "cell_type": "markdown",
   "id": "f515f428",
   "metadata": {},
   "source": [
    "### 1a. Anaconda installation\n",
    "\n",
    "If you installed Python using the Anaconda package manager, then the following code is recommended to install the missing packages."
   ]
  },
  {
   "cell_type": "code",
   "execution_count": null,
   "id": "c02a39a8",
   "metadata": {},
   "outputs": [],
   "source": [
    "# Install NumPy with Anaconda\n",
    "import sys\n",
    "!conda install --yes --prefix {sys.prefix} numpy"
   ]
  },
  {
   "cell_type": "code",
   "execution_count": null,
   "id": "919bf63d",
   "metadata": {},
   "outputs": [],
   "source": [
    "# Install matplotlib using Anaconda\n",
    "import sys\n",
    "!conda install --yes --prefix {sys.prefix} matplotlib"
   ]
  },
  {
   "cell_type": "markdown",
   "id": "1c3ad7ed",
   "metadata": {},
   "source": [
    "### 1b. Other types of installation (using pip for managing packages)\n",
    "\n",
    "If you do not install Python using Anaconda, I assume you use pip for managing packages. This is the package manager recommended by the Python Software Foundation (even though many Data Scientists prefer using Anaconda)."
   ]
  },
  {
   "cell_type": "code",
   "execution_count": null,
   "id": "c3305d35",
   "metadata": {},
   "outputs": [],
   "source": [
    "# Install NumPy in the current Jupyter kernel using pip\n",
    "import sys\n",
    "!{sys.executable} -m pip install numpy"
   ]
  },
  {
   "cell_type": "code",
   "execution_count": null,
   "id": "9109be23",
   "metadata": {},
   "outputs": [],
   "source": [
    "# Install Matplotlib in the current Jupyter kernel using pip\n",
    "import sys\n",
    "!{sys.executable} -m pip install matplotlib"
   ]
  },
  {
   "cell_type": "markdown",
   "id": "0fbf4686",
   "metadata": {},
   "source": [
    "## 2. Working with real functions in Python"
   ]
  },
  {
   "cell_type": "code",
   "execution_count": null,
   "id": "2f4fcb49",
   "metadata": {},
   "outputs": [],
   "source": []
  }
 ],
 "metadata": {
  "kernelspec": {
   "display_name": "maths-egm",
   "language": "python",
   "name": "maths-egm"
  },
  "language_info": {
   "codemirror_mode": {
    "name": "ipython",
    "version": 3
   },
   "file_extension": ".py",
   "mimetype": "text/x-python",
   "name": "python",
   "nbconvert_exporter": "python",
   "pygments_lexer": "ipython3",
   "version": "3.10.6"
  }
 },
 "nbformat": 4,
 "nbformat_minor": 5
}
