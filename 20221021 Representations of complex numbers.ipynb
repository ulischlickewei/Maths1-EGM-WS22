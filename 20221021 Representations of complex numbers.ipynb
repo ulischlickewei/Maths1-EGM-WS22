{
 "cells": [
  {
   "cell_type": "markdown",
   "id": "59d25557",
   "metadata": {},
   "source": [
    "## Compute radius and angle from algebraic form"
   ]
  },
  {
   "cell_type": "code",
   "execution_count": 8,
   "id": "88a9d1c7",
   "metadata": {},
   "outputs": [
    {
     "data": {
      "text/plain": [
       "(1+2j)"
      ]
     },
     "execution_count": 8,
     "metadata": {},
     "output_type": "execute_result"
    }
   ],
   "source": [
    "z = 1+2j\n",
    "z"
   ]
  },
  {
   "cell_type": "code",
   "execution_count": 9,
   "id": "fa21b54a",
   "metadata": {},
   "outputs": [
    {
     "data": {
      "text/plain": [
       "2.23606797749979"
      ]
     },
     "execution_count": 9,
     "metadata": {},
     "output_type": "execute_result"
    }
   ],
   "source": [
    "abs(z)"
   ]
  },
  {
   "cell_type": "code",
   "execution_count": 10,
   "id": "ae769a43",
   "metadata": {},
   "outputs": [
    {
     "name": "stdout",
     "output_type": "stream",
     "text": [
      "Help on built-in function atan2 in module math:\n",
      "\n",
      "atan2(y, x, /)\n",
      "    Return the arc tangent (measured in radians) of y/x.\n",
      "    \n",
      "    Unlike atan(y/x), the signs of both x and y are considered.\n",
      "\n"
     ]
    }
   ],
   "source": [
    "help(math.atan2)"
   ]
  },
  {
   "cell_type": "code",
   "execution_count": 11,
   "id": "74393c2a",
   "metadata": {},
   "outputs": [
    {
     "data": {
      "text/plain": [
       "1.1071487177940904"
      ]
     },
     "execution_count": 11,
     "metadata": {},
     "output_type": "execute_result"
    }
   ],
   "source": [
    "math.atan2(z.imag, z.real) #computes the angle of z"
   ]
  },
  {
   "cell_type": "code",
   "execution_count": 17,
   "id": "b7e4012e",
   "metadata": {},
   "outputs": [
    {
     "data": {
      "text/plain": [
       "(9.899494936611665+9.899494936611665j)"
      ]
     },
     "execution_count": 17,
     "metadata": {},
     "output_type": "execute_result"
    }
   ],
   "source": [
    "z = complex(7*math.sqrt(2), 7*math.sqrt(2))\n",
    "z"
   ]
  },
  {
   "cell_type": "markdown",
   "id": "7bb1535f",
   "metadata": {},
   "source": [
    "## Compute algebraic form from exponential form\n",
    "\n",
    "Let $w = e^{i \\frac{-\\pi}{3}}$. We compute real and imaginary part of $w$:"
   ]
  },
  {
   "cell_type": "code",
   "execution_count": 14,
   "id": "e6fb5711",
   "metadata": {},
   "outputs": [
    {
     "data": {
      "text/plain": [
       "0.5000000000000001"
      ]
     },
     "execution_count": 14,
     "metadata": {},
     "output_type": "execute_result"
    }
   ],
   "source": [
    "real = 1*math.cos(-math.pi/3) # absolute value = 1, angle = -pi/3\n",
    "real"
   ]
  },
  {
   "cell_type": "code",
   "execution_count": 15,
   "id": "f2516e2b",
   "metadata": {},
   "outputs": [
    {
     "data": {
      "text/plain": [
       "-0.8660254037844386"
      ]
     },
     "execution_count": 15,
     "metadata": {},
     "output_type": "execute_result"
    }
   ],
   "source": [
    "imaginary = 1*math.sin(-math.pi/3)\n",
    "imaginary"
   ]
  },
  {
   "cell_type": "markdown",
   "id": "33133a92",
   "metadata": {},
   "source": [
    "## Exercise \n",
    "Compute the algebraic form of $z = e^{-\\frac{5}{6}\\pi i}$."
   ]
  },
  {
   "cell_type": "code",
   "execution_count": 4,
   "id": "e8ba0094",
   "metadata": {},
   "outputs": [],
   "source": [
    "import math"
   ]
  },
  {
   "cell_type": "code",
   "execution_count": 3,
   "id": "6cafc750",
   "metadata": {},
   "outputs": [
    {
     "data": {
      "text/plain": [
       "(-0.8660254037844387-0.49999999999999994j)"
      ]
     },
     "execution_count": 3,
     "metadata": {},
     "output_type": "execute_result"
    }
   ],
   "source": [
    "z = complex(math.cos(-5/6 * math.pi), math.sin(-5/6 * math.pi))\n",
    "z"
   ]
  },
  {
   "cell_type": "markdown",
   "id": "bd416dff",
   "metadata": {},
   "source": [
    "## Exercise \n",
    "Compute the exponential form of $z = -\\pi - i\\cdot 7 \\pi$."
   ]
  },
  {
   "cell_type": "code",
   "execution_count": 13,
   "id": "c9a3a5c9",
   "metadata": {},
   "outputs": [
    {
     "data": {
      "text/plain": [
       "(-3.141592653589793-21.991148575128552j)"
      ]
     },
     "execution_count": 13,
     "metadata": {},
     "output_type": "execute_result"
    }
   ],
   "source": [
    "z = -math.pi - 7*math.pi*1j\n",
    "z"
   ]
  },
  {
   "cell_type": "code",
   "execution_count": 7,
   "id": "ee03d383",
   "metadata": {},
   "outputs": [
    {
     "data": {
      "text/plain": [
       "(-3.141592653589793-21.991148575128552j)"
      ]
     },
     "execution_count": 7,
     "metadata": {},
     "output_type": "execute_result"
    }
   ],
   "source": [
    "z = complex(-math.pi, -7*math.pi)\n",
    "z"
   ]
  },
  {
   "cell_type": "code",
   "execution_count": 8,
   "id": "485745e1",
   "metadata": {},
   "outputs": [
    {
     "data": {
      "text/plain": [
       "-2.999695598985629"
      ]
     },
     "execution_count": 8,
     "metadata": {},
     "output_type": "execute_result"
    }
   ],
   "source": [
    "phi = math.atan2(z.real, z.imag)\n",
    "phi"
   ]
  },
  {
   "cell_type": "code",
   "execution_count": 10,
   "id": "317815c3",
   "metadata": {},
   "outputs": [
    {
     "data": {
      "text/plain": [
       "22.21441469079183"
      ]
     },
     "execution_count": 10,
     "metadata": {},
     "output_type": "execute_result"
    }
   ],
   "source": [
    "r = abs(z)\n",
    "r"
   ]
  }
 ],
 "metadata": {
  "kernelspec": {
   "display_name": "maths-egm",
   "language": "python",
   "name": "maths-egm"
  },
  "language_info": {
   "codemirror_mode": {
    "name": "ipython",
    "version": 3
   },
   "file_extension": ".py",
   "mimetype": "text/x-python",
   "name": "python",
   "nbconvert_exporter": "python",
   "pygments_lexer": "ipython3",
   "version": "3.10.6"
  }
 },
 "nbformat": 4,
 "nbformat_minor": 5
}
