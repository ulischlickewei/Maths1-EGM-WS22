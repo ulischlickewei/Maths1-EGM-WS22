{
 "cells": [
  {
   "cell_type": "markdown",
   "id": "9b519728",
   "metadata": {},
   "source": [
    "## Exercise sheet 3, Exercise 5"
   ]
  },
  {
   "cell_type": "code",
   "execution_count": 7,
   "id": "84c45415",
   "metadata": {},
   "outputs": [],
   "source": [
    "import sympy"
   ]
  },
  {
   "cell_type": "code",
   "execution_count": 8,
   "id": "5be4b54e",
   "metadata": {},
   "outputs": [],
   "source": [
    "n = sympy.symbols('n')\n",
    "c = sympy.symbols('c', real = True)"
   ]
  },
  {
   "cell_type": "code",
   "execution_count": 9,
   "id": "83b67b14",
   "metadata": {},
   "outputs": [
    {
     "data": {
      "text/latex": [
       "$\\displaystyle \\frac{\\left(c + 4 n\\right) \\left(c n + 4\\right)}{2 n^{2} + 18}$"
      ],
      "text/plain": [
       "(c + 4*n)*(c*n + 4)/(2*n**2 + 18)"
      ]
     },
     "execution_count": 9,
     "metadata": {},
     "output_type": "execute_result"
    }
   ],
   "source": [
    "def seq(n):\n",
    "    return (4*n+c)*(c*n+4)/(2*n**2 + 18)\n",
    "seq(n)"
   ]
  },
  {
   "cell_type": "code",
   "execution_count": 11,
   "id": "b62243ba",
   "metadata": {},
   "outputs": [
    {
     "data": {
      "text/latex": [
       "$\\displaystyle 2 c$"
      ],
      "text/plain": [
       "2*c"
      ]
     },
     "execution_count": 11,
     "metadata": {},
     "output_type": "execute_result"
    }
   ],
   "source": [
    "sympy.limit(seq(n), n, sympy.oo)"
   ]
  },
  {
   "cell_type": "markdown",
   "id": "3d29dd4e",
   "metadata": {},
   "source": [
    "## Exercise sheet 3, Exercise 4"
   ]
  },
  {
   "cell_type": "code",
   "execution_count": 15,
   "id": "c91a76a4",
   "metadata": {},
   "outputs": [
    {
     "data": {
      "text/latex": [
       "$\\displaystyle e^{\\frac{1}{100}}$"
      ],
      "text/plain": [
       "exp(1/100)"
      ]
     },
     "execution_count": 15,
     "metadata": {},
     "output_type": "execute_result"
    }
   ],
   "source": [
    "def seq(n):\n",
    "    return (1+0.01/n)**n\n",
    "\n",
    "sympy.limit(seq(n), n, sympy.oo)"
   ]
  },
  {
   "cell_type": "code",
   "execution_count": 16,
   "id": "5672b2b8",
   "metadata": {},
   "outputs": [
    {
     "data": {
      "text/latex": [
       "$\\displaystyle \\left(1 + \\frac{0.01}{n}\\right)^{n}$"
      ],
      "text/plain": [
       "(1 + 0.01/n)**n"
      ]
     },
     "execution_count": 16,
     "metadata": {},
     "output_type": "execute_result"
    }
   ],
   "source": [
    "seq(n)"
   ]
  },
  {
   "cell_type": "code",
   "execution_count": 13,
   "id": "63298e06",
   "metadata": {},
   "outputs": [
    {
     "data": {
      "text/latex": [
       "$\\displaystyle e^{p}$"
      ],
      "text/plain": [
       "exp(p)"
      ]
     },
     "execution_count": 13,
     "metadata": {},
     "output_type": "execute_result"
    }
   ],
   "source": [
    "p = sympy.symbols('p')\n",
    "def seq(n):\n",
    "    return (1+p/n)**n\n",
    "\n",
    "sympy.limit(seq(n), n, sympy.oo)"
   ]
  },
  {
   "cell_type": "code",
   "execution_count": 14,
   "id": "31f0bd15",
   "metadata": {},
   "outputs": [
    {
     "data": {
      "text/latex": [
       "$\\displaystyle \\left(1 + \\frac{p}{n}\\right)^{n}$"
      ],
      "text/plain": [
       "(1 + p/n)**n"
      ]
     },
     "execution_count": 14,
     "metadata": {},
     "output_type": "execute_result"
    }
   ],
   "source": [
    "seq(n)"
   ]
  },
  {
   "cell_type": "code",
   "execution_count": 17,
   "id": "929dab63",
   "metadata": {},
   "outputs": [
    {
     "name": "stdout",
     "output_type": "stream",
     "text": [
      "1 : 0.8414709848078965\n",
      "2 : 0.9092974268256817\n",
      "4 : -0.7568024953079283\n",
      "8 : 0.9893582466233818\n",
      "16 : -0.2879033166650653\n",
      "32 : 0.5514266812416906\n",
      "64 : 0.9200260381967906\n",
      "128 : 0.7210377105017316\n",
      "256 : -0.9992080341070627\n",
      "512 : 0.07951849401287635\n"
     ]
    }
   ],
   "source": [
    "import math\n",
    "def seq(n):\n",
    "    return math.sin(n)\n",
    "\n",
    "for i in range(10):\n",
    "    print(2**i, ':', seq(2**i))"
   ]
  },
  {
   "cell_type": "code",
   "execution_count": null,
   "id": "1b01c973",
   "metadata": {},
   "outputs": [],
   "source": []
  }
 ],
 "metadata": {
  "kernelspec": {
   "display_name": "maths-egm",
   "language": "python",
   "name": "maths-egm"
  },
  "language_info": {
   "codemirror_mode": {
    "name": "ipython",
    "version": 3
   },
   "file_extension": ".py",
   "mimetype": "text/x-python",
   "name": "python",
   "nbconvert_exporter": "python",
   "pygments_lexer": "ipython3",
   "version": "3.10.6"
  }
 },
 "nbformat": 4,
 "nbformat_minor": 5
}
