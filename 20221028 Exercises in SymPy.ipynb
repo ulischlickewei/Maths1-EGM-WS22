{
 "cells": [
  {
   "cell_type": "markdown",
   "id": "44238ad2",
   "metadata": {},
   "source": [
    "## Exercise sheet 1, Exercise 7"
   ]
  },
  {
   "cell_type": "code",
   "execution_count": 1,
   "id": "9e1bae7d",
   "metadata": {},
   "outputs": [],
   "source": [
    "import sympy"
   ]
  },
  {
   "cell_type": "code",
   "execution_count": 3,
   "id": "1c226895",
   "metadata": {},
   "outputs": [
    {
     "data": {
      "text/latex": [
       "$\\displaystyle 3 a + i a$"
      ],
      "text/plain": [
       "3*a + I*a"
      ]
     },
     "execution_count": 3,
     "metadata": {},
     "output_type": "execute_result"
    }
   ],
   "source": [
    "a = sympy.symbols('a', pomsitive = True)\n",
    "z = 3*a + a*sympy.I\n",
    "z"
   ]
  },
  {
   "cell_type": "code",
   "execution_count": 5,
   "id": "5c3ff617",
   "metadata": {},
   "outputs": [
    {
     "data": {
      "text/latex": [
       "$\\displaystyle 0.965251663189927$"
      ],
      "text/plain": [
       "0.965251663189927"
      ]
     },
     "execution_count": 5,
     "metadata": {},
     "output_type": "execute_result"
    }
   ],
   "source": [
    "sympy.arg(z**3).evalf()"
   ]
  },
  {
   "cell_type": "code",
   "execution_count": 6,
   "id": "3c25a1a2",
   "metadata": {},
   "outputs": [
    {
     "data": {
      "text/latex": [
       "$\\displaystyle \\arg{\\left(a^{3} \\left(3 + i\\right)^{3} \\right)}$"
      ],
      "text/plain": [
       "arg(a**3*(3 + I)**3)"
      ]
     },
     "execution_count": 6,
     "metadata": {},
     "output_type": "execute_result"
    }
   ],
   "source": [
    "a = sympy.symbols('a', real = True)\n",
    "z = 3*a + a*sympy.I\n",
    "sympy.arg(z**3).evalf()"
   ]
  },
  {
   "cell_type": "markdown",
   "id": "45955719",
   "metadata": {},
   "source": [
    "## Exercise sheet 1, exercise 5"
   ]
  },
  {
   "cell_type": "code",
   "execution_count": 7,
   "id": "5fef38f2",
   "metadata": {},
   "outputs": [
    {
     "data": {
      "text/latex": [
       "$\\displaystyle \\frac{3 - i}{- a + i}$"
      ],
      "text/plain": [
       "(3 - I)/(-a + I)"
      ]
     },
     "execution_count": 7,
     "metadata": {},
     "output_type": "execute_result"
    }
   ],
   "source": [
    "a = sympy.symbols('a', real = True)\n",
    "z = ((abs(4 + sympy.I))**2 + \\\n",
    "     sympy.conjugate(sympy.exp(sympy.I * sympy.pi/2)) - \\\n",
    "     (1 / (abs(2 - 3*sympy.I)**2))**(-1) + sympy.I**2) / \\\n",
    "     (sympy.I - a)\n",
    "z"
   ]
  },
  {
   "cell_type": "markdown",
   "id": "82f6481a",
   "metadata": {},
   "source": [
    "We have to solve the equation $$\\text{Re}(z) = \\text{Im}(z).$$"
   ]
  },
  {
   "cell_type": "code",
   "execution_count": 15,
   "id": "9b67d1fb",
   "metadata": {},
   "outputs": [
    {
     "data": {
      "text/plain": [
       "[1/2]"
      ]
     },
     "execution_count": 15,
     "metadata": {},
     "output_type": "execute_result"
    }
   ],
   "source": [
    "sympy.solve(sympy.re(z) - sympy.im(z))"
   ]
  },
  {
   "cell_type": "code",
   "execution_count": 11,
   "id": "85a868de",
   "metadata": {},
   "outputs": [
    {
     "name": "stdout",
     "output_type": "stream",
     "text": [
      "Help on function solve in module sympy.solvers.solvers:\n",
      "\n",
      "solve(f, *symbols, **flags)\n",
      "    Algebraically solves equations and systems of equations.\n",
      "    \n",
      "    Explanation\n",
      "    ===========\n",
      "    \n",
      "    Currently supported:\n",
      "        - polynomial\n",
      "        - transcendental\n",
      "        - piecewise combinations of the above\n",
      "        - systems of linear and polynomial equations\n",
      "        - systems containing relational expressions\n",
      "    \n",
      "    Examples\n",
      "    ========\n",
      "    \n",
      "    The output varies according to the input and can be seen by example:\n",
      "    \n",
      "        >>> from sympy import solve, Poly, Eq, Function, exp\n",
      "        >>> from sympy.abc import x, y, z, a, b\n",
      "        >>> f = Function('f')\n",
      "    \n",
      "    Boolean or univariate Relational:\n",
      "    \n",
      "        >>> solve(x < 3)\n",
      "        (-oo < x) & (x < 3)\n",
      "    \n",
      "    \n",
      "    To always get a list of solution mappings, use flag dict=True:\n",
      "    \n",
      "        >>> solve(x - 3, dict=True)\n",
      "        [{x: 3}]\n",
      "        >>> sol = solve([x - 3, y - 1], dict=True)\n",
      "        >>> sol\n",
      "        [{x: 3, y: 1}]\n",
      "        >>> sol[0][x]\n",
      "        3\n",
      "        >>> sol[0][y]\n",
      "        1\n",
      "    \n",
      "    \n",
      "    To get a list of *symbols* and set of solution(s) use flag set=True:\n",
      "    \n",
      "        >>> solve([x**2 - 3, y - 1], set=True)\n",
      "        ([x, y], {(-sqrt(3), 1), (sqrt(3), 1)})\n",
      "    \n",
      "    \n",
      "    Single expression and single symbol that is in the expression:\n",
      "    \n",
      "        >>> solve(x - y, x)\n",
      "        [y]\n",
      "        >>> solve(x - 3, x)\n",
      "        [3]\n",
      "        >>> solve(Eq(x, 3), x)\n",
      "        [3]\n",
      "        >>> solve(Poly(x - 3), x)\n",
      "        [3]\n",
      "        >>> solve(x**2 - y**2, x, set=True)\n",
      "        ([x], {(-y,), (y,)})\n",
      "        >>> solve(x**4 - 1, x, set=True)\n",
      "        ([x], {(-1,), (1,), (-I,), (I,)})\n",
      "    \n",
      "    Single expression with no symbol that is in the expression:\n",
      "    \n",
      "        >>> solve(3, x)\n",
      "        []\n",
      "        >>> solve(x - 3, y)\n",
      "        []\n",
      "    \n",
      "    Single expression with no symbol given. In this case, all free *symbols*\n",
      "    will be selected as potential *symbols* to solve for. If the equation is\n",
      "    univariate then a list of solutions is returned; otherwise - as is the case\n",
      "    when *symbols* are given as an iterable of length greater than 1 - a list of\n",
      "    mappings will be returned:\n",
      "    \n",
      "        >>> solve(x - 3)\n",
      "        [3]\n",
      "        >>> solve(x**2 - y**2)\n",
      "        [{x: -y}, {x: y}]\n",
      "        >>> solve(z**2*x**2 - z**2*y**2)\n",
      "        [{x: -y}, {x: y}, {z: 0}]\n",
      "        >>> solve(z**2*x - z**2*y**2)\n",
      "        [{x: y**2}, {z: 0}]\n",
      "    \n",
      "    When an object other than a Symbol is given as a symbol, it is\n",
      "    isolated algebraically and an implicit solution may be obtained.\n",
      "    This is mostly provided as a convenience to save you from replacing\n",
      "    the object with a Symbol and solving for that Symbol. It will only\n",
      "    work if the specified object can be replaced with a Symbol using the\n",
      "    subs method:\n",
      "    \n",
      "    >>> solve(f(x) - x, f(x))\n",
      "    [x]\n",
      "    >>> solve(f(x).diff(x) - f(x) - x, f(x).diff(x))\n",
      "    [x + f(x)]\n",
      "    >>> solve(f(x).diff(x) - f(x) - x, f(x))\n",
      "    [-x + Derivative(f(x), x)]\n",
      "    >>> solve(x + exp(x)**2, exp(x), set=True)\n",
      "    ([exp(x)], {(-sqrt(-x),), (sqrt(-x),)})\n",
      "    \n",
      "    >>> from sympy import Indexed, IndexedBase, Tuple, sqrt\n",
      "    >>> A = IndexedBase('A')\n",
      "    >>> eqs = Tuple(A[1] + A[2] - 3, A[1] - A[2] + 1)\n",
      "    >>> solve(eqs, eqs.atoms(Indexed))\n",
      "    {A[1]: 1, A[2]: 2}\n",
      "    \n",
      "        * To solve for a symbol implicitly, use implicit=True:\n",
      "    \n",
      "            >>> solve(x + exp(x), x)\n",
      "            [-LambertW(1)]\n",
      "            >>> solve(x + exp(x), x, implicit=True)\n",
      "            [-exp(x)]\n",
      "    \n",
      "        * It is possible to solve for anything that can be targeted with\n",
      "          subs:\n",
      "    \n",
      "            >>> solve(x + 2 + sqrt(3), x + 2)\n",
      "            [-sqrt(3)]\n",
      "            >>> solve((x + 2 + sqrt(3), x + 4 + y), y, x + 2)\n",
      "            {y: -2 + sqrt(3), x + 2: -sqrt(3)}\n",
      "    \n",
      "        * Nothing heroic is done in this implicit solving so you may end up\n",
      "          with a symbol still in the solution:\n",
      "    \n",
      "            >>> eqs = (x*y + 3*y + sqrt(3), x + 4 + y)\n",
      "            >>> solve(eqs, y, x + 2)\n",
      "            {y: -sqrt(3)/(x + 3), x + 2: -2*x/(x + 3) - 6/(x + 3) + sqrt(3)/(x + 3)}\n",
      "            >>> solve(eqs, y*x, x)\n",
      "            {x: -y - 4, x*y: -3*y - sqrt(3)}\n",
      "    \n",
      "        * If you attempt to solve for a number remember that the number\n",
      "          you have obtained does not necessarily mean that the value is\n",
      "          equivalent to the expression obtained:\n",
      "    \n",
      "            >>> solve(sqrt(2) - 1, 1)\n",
      "            [sqrt(2)]\n",
      "            >>> solve(x - y + 1, 1)  # /!\\ -1 is targeted, too\n",
      "            [x/(y - 1)]\n",
      "            >>> [_.subs(z, -1) for _ in solve((x - y + 1).subs(-1, z), 1)]\n",
      "            [-x + y]\n",
      "    \n",
      "        * To solve for a function within a derivative, use ``dsolve``.\n",
      "    \n",
      "    Single expression and more than one symbol:\n",
      "    \n",
      "        * When there is a linear solution:\n",
      "    \n",
      "            >>> solve(x - y**2, x, y)\n",
      "            [(y**2, y)]\n",
      "            >>> solve(x**2 - y, x, y)\n",
      "            [(x, x**2)]\n",
      "            >>> solve(x**2 - y, x, y, dict=True)\n",
      "            [{y: x**2}]\n",
      "    \n",
      "        * When undetermined coefficients are identified:\n",
      "    \n",
      "            * That are linear:\n",
      "    \n",
      "                >>> solve((a + b)*x - b + 2, a, b)\n",
      "                {a: -2, b: 2}\n",
      "    \n",
      "            * That are nonlinear:\n",
      "    \n",
      "                >>> solve((a + b)*x - b**2 + 2, a, b, set=True)\n",
      "                ([a, b], {(-sqrt(2), sqrt(2)), (sqrt(2), -sqrt(2))})\n",
      "    \n",
      "        * If there is no linear solution, then the first successful\n",
      "          attempt for a nonlinear solution will be returned:\n",
      "    \n",
      "            >>> solve(x**2 - y**2, x, y, dict=True)\n",
      "            [{x: -y}, {x: y}]\n",
      "            >>> solve(x**2 - y**2/exp(x), x, y, dict=True)\n",
      "            [{x: 2*LambertW(-y/2)}, {x: 2*LambertW(y/2)}]\n",
      "            >>> solve(x**2 - y**2/exp(x), y, x)\n",
      "            [(-x*sqrt(exp(x)), x), (x*sqrt(exp(x)), x)]\n",
      "    \n",
      "    Iterable of one or more of the above:\n",
      "    \n",
      "        * Involving relationals or bools:\n",
      "    \n",
      "            >>> solve([x < 3, x - 2])\n",
      "            Eq(x, 2)\n",
      "            >>> solve([x > 3, x - 2])\n",
      "            False\n",
      "    \n",
      "        * When the system is linear:\n",
      "    \n",
      "            * With a solution:\n",
      "    \n",
      "                >>> solve([x - 3], x)\n",
      "                {x: 3}\n",
      "                >>> solve((x + 5*y - 2, -3*x + 6*y - 15), x, y)\n",
      "                {x: -3, y: 1}\n",
      "                >>> solve((x + 5*y - 2, -3*x + 6*y - 15), x, y, z)\n",
      "                {x: -3, y: 1}\n",
      "                >>> solve((x + 5*y - 2, -3*x + 6*y - z), z, x, y)\n",
      "                {x: 2 - 5*y, z: 21*y - 6}\n",
      "    \n",
      "            * Without a solution:\n",
      "    \n",
      "                >>> solve([x + 3, x - 3])\n",
      "                []\n",
      "    \n",
      "        * When the system is not linear:\n",
      "    \n",
      "            >>> solve([x**2 + y -2, y**2 - 4], x, y, set=True)\n",
      "            ([x, y], {(-2, -2), (0, 2), (2, -2)})\n",
      "    \n",
      "        * If no *symbols* are given, all free *symbols* will be selected and a\n",
      "          list of mappings returned:\n",
      "    \n",
      "            >>> solve([x - 2, x**2 + y])\n",
      "            [{x: 2, y: -4}]\n",
      "            >>> solve([x - 2, x**2 + f(x)], {f(x), x})\n",
      "            [{x: 2, f(x): -4}]\n",
      "    \n",
      "        * If any equation does not depend on the symbol(s) given, it will be\n",
      "          eliminated from the equation set and an answer may be given\n",
      "          implicitly in terms of variables that were not of interest:\n",
      "    \n",
      "            >>> solve([x - y, y - 3], x)\n",
      "            {x: y}\n",
      "    \n",
      "    **Additional Examples**\n",
      "    \n",
      "    ``solve()`` with check=True (default) will run through the symbol tags to\n",
      "    elimate unwanted solutions. If no assumptions are included, all possible\n",
      "    solutions will be returned:\n",
      "    \n",
      "        >>> from sympy import Symbol, solve\n",
      "        >>> x = Symbol(\"x\")\n",
      "        >>> solve(x**2 - 1)\n",
      "        [-1, 1]\n",
      "    \n",
      "    By using the positive tag, only one solution will be returned:\n",
      "    \n",
      "        >>> pos = Symbol(\"pos\", positive=True)\n",
      "        >>> solve(pos**2 - 1)\n",
      "        [1]\n",
      "    \n",
      "    Assumptions are not checked when ``solve()`` input involves\n",
      "    relationals or bools.\n",
      "    \n",
      "    When the solutions are checked, those that make any denominator zero\n",
      "    are automatically excluded. If you do not want to exclude such solutions,\n",
      "    then use the check=False option:\n",
      "    \n",
      "        >>> from sympy import sin, limit\n",
      "        >>> solve(sin(x)/x)  # 0 is excluded\n",
      "        [pi]\n",
      "    \n",
      "    If check=False, then a solution to the numerator being zero is found: x = 0.\n",
      "    In this case, this is a spurious solution since $\\sin(x)/x$ has the well\n",
      "    known limit (without dicontinuity) of 1 at x = 0:\n",
      "    \n",
      "        >>> solve(sin(x)/x, check=False)\n",
      "        [0, pi]\n",
      "    \n",
      "    In the following case, however, the limit exists and is equal to the\n",
      "    value of x = 0 that is excluded when check=True:\n",
      "    \n",
      "        >>> eq = x**2*(1/x - z**2/x)\n",
      "        >>> solve(eq, x)\n",
      "        []\n",
      "        >>> solve(eq, x, check=False)\n",
      "        [0]\n",
      "        >>> limit(eq, x, 0, '-')\n",
      "        0\n",
      "        >>> limit(eq, x, 0, '+')\n",
      "        0\n",
      "    \n",
      "    **Disabling High-Order Explicit Solutions**\n",
      "    \n",
      "    When solving polynomial expressions, you might not want explicit solutions\n",
      "    (which can be quite long). If the expression is univariate, ``CRootOf``\n",
      "    instances will be returned instead:\n",
      "    \n",
      "        >>> solve(x**3 - x + 1)\n",
      "        [-1/((-1/2 - sqrt(3)*I/2)*(3*sqrt(69)/2 + 27/2)**(1/3)) -\n",
      "        (-1/2 - sqrt(3)*I/2)*(3*sqrt(69)/2 + 27/2)**(1/3)/3,\n",
      "        -(-1/2 + sqrt(3)*I/2)*(3*sqrt(69)/2 + 27/2)**(1/3)/3 -\n",
      "        1/((-1/2 + sqrt(3)*I/2)*(3*sqrt(69)/2 + 27/2)**(1/3)),\n",
      "        -(3*sqrt(69)/2 + 27/2)**(1/3)/3 -\n",
      "        1/(3*sqrt(69)/2 + 27/2)**(1/3)]\n",
      "        >>> solve(x**3 - x + 1, cubics=False)\n",
      "        [CRootOf(x**3 - x + 1, 0),\n",
      "         CRootOf(x**3 - x + 1, 1),\n",
      "         CRootOf(x**3 - x + 1, 2)]\n",
      "    \n",
      "    If the expression is multivariate, no solution might be returned:\n",
      "    \n",
      "        >>> solve(x**3 - x + a, x, cubics=False)\n",
      "        []\n",
      "    \n",
      "    Sometimes solutions will be obtained even when a flag is False because the\n",
      "    expression could be factored. In the following example, the equation can\n",
      "    be factored as the product of a linear and a quadratic factor so explicit\n",
      "    solutions (which did not require solving a cubic expression) are obtained:\n",
      "    \n",
      "        >>> eq = x**3 + 3*x**2 + x - 1\n",
      "        >>> solve(eq, cubics=False)\n",
      "        [-1, -1 + sqrt(2), -sqrt(2) - 1]\n",
      "    \n",
      "    **Solving Equations Involving Radicals**\n",
      "    \n",
      "    Because of SymPy's use of the principle root, some solutions\n",
      "    to radical equations will be missed unless check=False:\n",
      "    \n",
      "        >>> from sympy import root\n",
      "        >>> eq = root(x**3 - 3*x**2, 3) + 1 - x\n",
      "        >>> solve(eq)\n",
      "        []\n",
      "        >>> solve(eq, check=False)\n",
      "        [1/3]\n",
      "    \n",
      "    In the above example, there is only a single solution to the\n",
      "    equation. Other expressions will yield spurious roots which\n",
      "    must be checked manually; roots which give a negative argument\n",
      "    to odd-powered radicals will also need special checking:\n",
      "    \n",
      "        >>> from sympy import real_root, S\n",
      "        >>> eq = root(x, 3) - root(x, 5) + S(1)/7\n",
      "        >>> solve(eq)  # this gives 2 solutions but misses a 3rd\n",
      "        [CRootOf(7*x**5 - 7*x**3 + 1, 1)**15,\n",
      "        CRootOf(7*x**5 - 7*x**3 + 1, 2)**15]\n",
      "        >>> sol = solve(eq, check=False)\n",
      "        >>> [abs(eq.subs(x,i).n(2)) for i in sol]\n",
      "        [0.48, 0.e-110, 0.e-110, 0.052, 0.052]\n",
      "    \n",
      "    The first solution is negative so ``real_root`` must be used to see that it\n",
      "    satisfies the expression:\n",
      "    \n",
      "        >>> abs(real_root(eq.subs(x, sol[0])).n(2))\n",
      "        0.e-110\n",
      "    \n",
      "    If the roots of the equation are not real then more care will be\n",
      "    necessary to find the roots, especially for higher order equations.\n",
      "    Consider the following expression:\n",
      "    \n",
      "        >>> expr = root(x, 3) - root(x, 5)\n",
      "    \n",
      "    We will construct a known value for this expression at x = 3 by selecting\n",
      "    the 1-th root for each radical:\n",
      "    \n",
      "        >>> expr1 = root(x, 3, 1) - root(x, 5, 1)\n",
      "        >>> v = expr1.subs(x, -3)\n",
      "    \n",
      "    The ``solve`` function is unable to find any exact roots to this equation:\n",
      "    \n",
      "        >>> eq = Eq(expr, v); eq1 = Eq(expr1, v)\n",
      "        >>> solve(eq, check=False), solve(eq1, check=False)\n",
      "        ([], [])\n",
      "    \n",
      "    The function ``unrad``, however, can be used to get a form of the equation\n",
      "    for which numerical roots can be found:\n",
      "    \n",
      "        >>> from sympy.solvers.solvers import unrad\n",
      "        >>> from sympy import nroots\n",
      "        >>> e, (p, cov) = unrad(eq)\n",
      "        >>> pvals = nroots(e)\n",
      "        >>> inversion = solve(cov, x)[0]\n",
      "        >>> xvals = [inversion.subs(p, i) for i in pvals]\n",
      "    \n",
      "    Although ``eq`` or ``eq1`` could have been used to find ``xvals``, the\n",
      "    solution can only be verified with ``expr1``:\n",
      "    \n",
      "        >>> z = expr - v\n",
      "        >>> [xi.n(chop=1e-9) for xi in xvals if abs(z.subs(x, xi).n()) < 1e-9]\n",
      "        []\n",
      "        >>> z1 = expr1 - v\n",
      "        >>> [xi.n(chop=1e-9) for xi in xvals if abs(z1.subs(x, xi).n()) < 1e-9]\n",
      "        [-3.0]\n",
      "    \n",
      "    Parameters\n",
      "    ==========\n",
      "    \n",
      "    f :\n",
      "        - a single Expr or Poly that must be zero\n",
      "        - an Equality\n",
      "        - a Relational expression\n",
      "        - a Boolean\n",
      "        - iterable of one or more of the above\n",
      "    \n",
      "    symbols : (object(s) to solve for) specified as\n",
      "        - none given (other non-numeric objects will be used)\n",
      "        - single symbol\n",
      "        - denested list of symbols\n",
      "          (e.g., ``solve(f, x, y)``)\n",
      "        - ordered iterable of symbols\n",
      "          (e.g., ``solve(f, [x, y])``)\n",
      "    \n",
      "    flags :\n",
      "        dict=True (default is False)\n",
      "            Return list (perhaps empty) of solution mappings.\n",
      "        set=True (default is False)\n",
      "            Return list of symbols and set of tuple(s) of solution(s).\n",
      "        exclude=[] (default)\n",
      "            Do not try to solve for any of the free symbols in exclude;\n",
      "            if expressions are given, the free symbols in them will\n",
      "            be extracted automatically.\n",
      "        check=True (default)\n",
      "            If False, do not do any testing of solutions. This can be\n",
      "            useful if you want to include solutions that make any\n",
      "            denominator zero.\n",
      "        numerical=True (default)\n",
      "            Do a fast numerical check if *f* has only one symbol.\n",
      "        minimal=True (default is False)\n",
      "            A very fast, minimal testing.\n",
      "        warn=True (default is False)\n",
      "            Show a warning if ``checksol()`` could not conclude.\n",
      "        simplify=True (default)\n",
      "            Simplify all but polynomials of order 3 or greater before\n",
      "            returning them and (if check is not False) use the\n",
      "            general simplify function on the solutions and the\n",
      "            expression obtained when they are substituted into the\n",
      "            function which should be zero.\n",
      "        force=True (default is False)\n",
      "            Make positive all symbols without assumptions regarding sign.\n",
      "        rational=True (default)\n",
      "            Recast Floats as Rational; if this option is not used, the\n",
      "            system containing Floats may fail to solve because of issues\n",
      "            with polys. If rational=None, Floats will be recast as\n",
      "            rationals but the answer will be recast as Floats. If the\n",
      "            flag is False then nothing will be done to the Floats.\n",
      "        manual=True (default is False)\n",
      "            Do not use the polys/matrix method to solve a system of\n",
      "            equations, solve them one at a time as you might \"manually.\"\n",
      "        implicit=True (default is False)\n",
      "            Allows ``solve`` to return a solution for a pattern in terms of\n",
      "            other functions that contain that pattern; this is only\n",
      "            needed if the pattern is inside of some invertible function\n",
      "            like cos, exp, ect.\n",
      "        particular=True (default is False)\n",
      "            Instructs ``solve`` to try to find a particular solution to a linear\n",
      "            system with as many zeros as possible; this is very expensive.\n",
      "        quick=True (default is False)\n",
      "            When using particular=True, use a fast heuristic to find a\n",
      "            solution with many zeros (instead of using the very slow method\n",
      "            guaranteed to find the largest number of zeros possible).\n",
      "        cubics=True (default)\n",
      "            Return explicit solutions when cubic expressions are encountered.\n",
      "            When False, quartics and quintics are disabled, too.\n",
      "        quartics=True (default)\n",
      "            Return explicit solutions when quartic expressions are encountered.\n",
      "            When False, quintics are disabled, too.\n",
      "        quintics=True (default)\n",
      "            Return explicit solutions (if possible) when quintic expressions\n",
      "            are encountered.\n",
      "    \n",
      "    See Also\n",
      "    ========\n",
      "    \n",
      "    rsolve: For solving recurrence relationships\n",
      "    dsolve: For solving differential equations\n",
      "\n"
     ]
    }
   ],
   "source": [
    "help(sympy.solve)"
   ]
  },
  {
   "cell_type": "markdown",
   "id": "7d5ec939",
   "metadata": {},
   "source": [
    "## Exercise sheet 2, exercise 2(e)"
   ]
  },
  {
   "cell_type": "code",
   "execution_count": 17,
   "id": "beed7fe9",
   "metadata": {},
   "outputs": [
    {
     "data": {
      "text/plain": [
       "[-3, 3/2 - 3*sqrt(3)*I/2, 3/2 + 3*sqrt(3)*I/2]"
      ]
     },
     "execution_count": 17,
     "metadata": {},
     "output_type": "execute_result"
    }
   ],
   "source": [
    "z = sympy.symbols('z')\n",
    "sympy.solve(z**3 - 27*sympy.exp(-sympy.I*sympy.pi))"
   ]
  },
  {
   "cell_type": "markdown",
   "id": "1a687064",
   "metadata": {},
   "source": [
    "## Exercise sheet 2, exercise 3(d)"
   ]
  },
  {
   "cell_type": "code",
   "execution_count": 19,
   "id": "cf6e191f",
   "metadata": {},
   "outputs": [
    {
     "data": {
      "text/latex": [
       "$\\displaystyle z^{4} - z^{3} + z^{2} + 9 z - 10$"
      ],
      "text/plain": [
       "z**4 - z**3 + z**2 + 9*z - 10"
      ]
     },
     "execution_count": 19,
     "metadata": {},
     "output_type": "execute_result"
    }
   ],
   "source": [
    "p = z**4 - z**3 + z**2 + 9*z - 10\n",
    "p"
   ]
  },
  {
   "cell_type": "code",
   "execution_count": 20,
   "id": "cd490c7a",
   "metadata": {},
   "outputs": [
    {
     "data": {
      "text/latex": [
       "$\\displaystyle \\left(z - 1\\right) \\left(z + 2\\right) \\left(z^{2} - 2 z + 5\\right)$"
      ],
      "text/plain": [
       "(z - 1)*(z + 2)*(z**2 - 2*z + 5)"
      ]
     },
     "execution_count": 20,
     "metadata": {},
     "output_type": "execute_result"
    }
   ],
   "source": [
    "sympy.factor(p)"
   ]
  },
  {
   "cell_type": "code",
   "execution_count": 21,
   "id": "303ee25a",
   "metadata": {},
   "outputs": [
    {
     "data": {
      "text/latex": [
       "$\\displaystyle \\left(z - 1\\right) \\left(z + 2\\right) \\left(z - 1 - 2 i\\right) \\left(z - 1 + 2 i\\right)$"
      ],
      "text/plain": [
       "(z - 1)*(z + 2)*(z - 1 - 2*I)*(z - 1 + 2*I)"
      ]
     },
     "execution_count": 21,
     "metadata": {},
     "output_type": "execute_result"
    }
   ],
   "source": [
    "# complex factorization\n",
    "sympy.factor(p, extension = sympy.roots(p))"
   ]
  },
  {
   "cell_type": "code",
   "execution_count": 37,
   "id": "dd017995",
   "metadata": {},
   "outputs": [
    {
     "data": {
      "text/plain": [
       "[-2, 1, 1 - 2*I, 1 + 2*I]"
      ]
     },
     "execution_count": 37,
     "metadata": {},
     "output_type": "execute_result"
    }
   ],
   "source": [
    "# Alternative approach\n",
    "roots = sympy.solve(p)\n",
    "roots"
   ]
  },
  {
   "cell_type": "code",
   "execution_count": 38,
   "id": "95d2e573",
   "metadata": {},
   "outputs": [
    {
     "data": {
      "text/latex": [
       "$\\displaystyle -2$"
      ],
      "text/plain": [
       "-2"
      ]
     },
     "execution_count": 38,
     "metadata": {},
     "output_type": "execute_result"
    }
   ],
   "source": [
    "roots[0]"
   ]
  },
  {
   "cell_type": "code",
   "execution_count": 39,
   "id": "77daf43a",
   "metadata": {},
   "outputs": [
    {
     "data": {
      "text/latex": [
       "$\\displaystyle 1$"
      ],
      "text/plain": [
       "1"
      ]
     },
     "execution_count": 39,
     "metadata": {},
     "output_type": "execute_result"
    }
   ],
   "source": [
    "roots[1]"
   ]
  },
  {
   "cell_type": "code",
   "execution_count": 40,
   "id": "27af7b53",
   "metadata": {},
   "outputs": [
    {
     "data": {
      "text/latex": [
       "$\\displaystyle 1 + 2 i$"
      ],
      "text/plain": [
       "1 + 2*I"
      ]
     },
     "execution_count": 40,
     "metadata": {},
     "output_type": "execute_result"
    }
   ],
   "source": [
    "roots[3]"
   ]
  },
  {
   "cell_type": "code",
   "execution_count": 41,
   "id": "357f1fb0",
   "metadata": {},
   "outputs": [
    {
     "data": {
      "text/latex": [
       "$\\displaystyle \\left(z - 1 - 2 i\\right) \\left(z - 1 + 2 i\\right)$"
      ],
      "text/plain": [
       "(z - 1 - 2*I)*(z - 1 + 2*I)"
      ]
     },
     "execution_count": 41,
     "metadata": {},
     "output_type": "execute_result"
    }
   ],
   "source": [
    "(z - roots[2])*(z-roots[3])"
   ]
  }
 ],
 "metadata": {
  "kernelspec": {
   "display_name": "maths-egm",
   "language": "python",
   "name": "maths-egm"
  },
  "language_info": {
   "codemirror_mode": {
    "name": "ipython",
    "version": 3
   },
   "file_extension": ".py",
   "mimetype": "text/x-python",
   "name": "python",
   "nbconvert_exporter": "python",
   "pygments_lexer": "ipython3",
   "version": "3.10.6"
  }
 },
 "nbformat": 4,
 "nbformat_minor": 5
}
