{
  "cells": [
    {
      "cell_type": "markdown",
      "metadata": {
        "id": "view-in-github",
        "colab_type": "text"
      },
      "source": [
        "<a href=\"https://colab.research.google.com/github/ulischlickewei/Maths1-EGM-WS22/blob/main/20221014_Arithmetic_of_complex_numbers_.ipynb\" target=\"_parent\"><img src=\"https://colab.research.google.com/assets/colab-badge.svg\" alt=\"Open In Colab\"/></a>"
      ]
    },
    {
      "cell_type": "code",
      "execution_count": null,
      "id": "a1e3ce39",
      "metadata": {
        "id": "a1e3ce39",
        "outputId": "42244870-c867-4c5e-cac1-0afd1d117ecd"
      },
      "outputs": [
        {
          "data": {
            "text/plain": [
              "(1+2j)"
            ]
          },
          "execution_count": 1,
          "metadata": {},
          "output_type": "execute_result"
        }
      ],
      "source": [
        "z = 1+2j\n",
        "z"
      ]
    },
    {
      "cell_type": "code",
      "execution_count": null,
      "id": "7f72a3c5",
      "metadata": {
        "id": "7f72a3c5"
      },
      "outputs": [],
      "source": [
        "z = 1+2j"
      ]
    },
    {
      "cell_type": "code",
      "execution_count": null,
      "id": "dc287697",
      "metadata": {
        "id": "dc287697",
        "outputId": "71706f92-5498-4984-f0ac-58cf7fcb1134"
      },
      "outputs": [
        {
          "data": {
            "text/plain": [
              "(1+2j)"
            ]
          },
          "execution_count": 17,
          "metadata": {},
          "output_type": "execute_result"
        }
      ],
      "source": [
        "z"
      ]
    },
    {
      "cell_type": "code",
      "execution_count": null,
      "id": "f554c7ec",
      "metadata": {
        "id": "f554c7ec",
        "outputId": "dd8d9aab-ff40-4c4f-8088-507b0111684c"
      },
      "outputs": [
        {
          "name": "stdout",
          "output_type": "stream",
          "text": [
            "(1+2j)\n"
          ]
        }
      ],
      "source": [
        "print(z)"
      ]
    },
    {
      "cell_type": "code",
      "execution_count": null,
      "id": "d6a38acb",
      "metadata": {
        "id": "d6a38acb",
        "outputId": "d09df0ea-7d34-463e-a12c-4a0e1ee9002c"
      },
      "outputs": [
        {
          "data": {
            "text/plain": [
              "complex"
            ]
          },
          "execution_count": 2,
          "metadata": {},
          "output_type": "execute_result"
        }
      ],
      "source": [
        "type(z)"
      ]
    },
    {
      "cell_type": "code",
      "execution_count": null,
      "id": "966ba3db",
      "metadata": {
        "id": "966ba3db",
        "outputId": "bda1a5a0-5401-4a6c-ae6b-5aa32fcec9fc"
      },
      "outputs": [
        {
          "name": "stdout",
          "output_type": "stream",
          "text": [
            "Help on class complex in module builtins:\n",
            "\n",
            "class complex(object)\n",
            " |  complex(real=0, imag=0)\n",
            " |  \n",
            " |  Create a complex number from a real part and an optional imaginary part.\n",
            " |  \n",
            " |  This is equivalent to (real + imag*1j) where imag defaults to 0.\n",
            " |  \n",
            " |  Methods defined here:\n",
            " |  \n",
            " |  __abs__(self, /)\n",
            " |      abs(self)\n",
            " |  \n",
            " |  __add__(self, value, /)\n",
            " |      Return self+value.\n",
            " |  \n",
            " |  __bool__(self, /)\n",
            " |      True if self else False\n",
            " |  \n",
            " |  __divmod__(self, value, /)\n",
            " |      Return divmod(self, value).\n",
            " |  \n",
            " |  __eq__(self, value, /)\n",
            " |      Return self==value.\n",
            " |  \n",
            " |  __float__(self, /)\n",
            " |      float(self)\n",
            " |  \n",
            " |  __floordiv__(self, value, /)\n",
            " |      Return self//value.\n",
            " |  \n",
            " |  __format__(...)\n",
            " |      complex.__format__() -> str\n",
            " |      \n",
            " |      Convert to a string according to format_spec.\n",
            " |  \n",
            " |  __ge__(self, value, /)\n",
            " |      Return self>=value.\n",
            " |  \n",
            " |  __getattribute__(self, name, /)\n",
            " |      Return getattr(self, name).\n",
            " |  \n",
            " |  __getnewargs__(...)\n",
            " |  \n",
            " |  __gt__(self, value, /)\n",
            " |      Return self>value.\n",
            " |  \n",
            " |  __hash__(self, /)\n",
            " |      Return hash(self).\n",
            " |  \n",
            " |  __int__(self, /)\n",
            " |      int(self)\n",
            " |  \n",
            " |  __le__(self, value, /)\n",
            " |      Return self<=value.\n",
            " |  \n",
            " |  __lt__(self, value, /)\n",
            " |      Return self<value.\n",
            " |  \n",
            " |  __mod__(self, value, /)\n",
            " |      Return self%value.\n",
            " |  \n",
            " |  __mul__(self, value, /)\n",
            " |      Return self*value.\n",
            " |  \n",
            " |  __ne__(self, value, /)\n",
            " |      Return self!=value.\n",
            " |  \n",
            " |  __neg__(self, /)\n",
            " |      -self\n",
            " |  \n",
            " |  __pos__(self, /)\n",
            " |      +self\n",
            " |  \n",
            " |  __pow__(self, value, mod=None, /)\n",
            " |      Return pow(self, value, mod).\n",
            " |  \n",
            " |  __radd__(self, value, /)\n",
            " |      Return value+self.\n",
            " |  \n",
            " |  __rdivmod__(self, value, /)\n",
            " |      Return divmod(value, self).\n",
            " |  \n",
            " |  __repr__(self, /)\n",
            " |      Return repr(self).\n",
            " |  \n",
            " |  __rfloordiv__(self, value, /)\n",
            " |      Return value//self.\n",
            " |  \n",
            " |  __rmod__(self, value, /)\n",
            " |      Return value%self.\n",
            " |  \n",
            " |  __rmul__(self, value, /)\n",
            " |      Return value*self.\n",
            " |  \n",
            " |  __rpow__(self, value, mod=None, /)\n",
            " |      Return pow(value, self, mod).\n",
            " |  \n",
            " |  __rsub__(self, value, /)\n",
            " |      Return value-self.\n",
            " |  \n",
            " |  __rtruediv__(self, value, /)\n",
            " |      Return value/self.\n",
            " |  \n",
            " |  __sub__(self, value, /)\n",
            " |      Return self-value.\n",
            " |  \n",
            " |  __truediv__(self, value, /)\n",
            " |      Return self/value.\n",
            " |  \n",
            " |  conjugate(...)\n",
            " |      complex.conjugate() -> complex\n",
            " |      \n",
            " |      Return the complex conjugate of its argument. (3-4j).conjugate() == 3+4j.\n",
            " |  \n",
            " |  ----------------------------------------------------------------------\n",
            " |  Static methods defined here:\n",
            " |  \n",
            " |  __new__(*args, **kwargs) from builtins.type\n",
            " |      Create and return a new object.  See help(type) for accurate signature.\n",
            " |  \n",
            " |  ----------------------------------------------------------------------\n",
            " |  Data descriptors defined here:\n",
            " |  \n",
            " |  imag\n",
            " |      the imaginary part of a complex number\n",
            " |  \n",
            " |  real\n",
            " |      the real part of a complex number\n",
            "\n"
          ]
        }
      ],
      "source": [
        "help(complex)"
      ]
    },
    {
      "cell_type": "code",
      "execution_count": null,
      "id": "f797ebdb",
      "metadata": {
        "id": "f797ebdb"
      },
      "outputs": [],
      "source": [
        "w = 3-2j"
      ]
    },
    {
      "cell_type": "code",
      "execution_count": null,
      "id": "4c7d03e8",
      "metadata": {
        "id": "4c7d03e8",
        "outputId": "1e8de2d3-4613-4f86-c16a-dd90c631165f"
      },
      "outputs": [
        {
          "data": {
            "text/plain": [
              "(7+4j)"
            ]
          },
          "execution_count": 5,
          "metadata": {},
          "output_type": "execute_result"
        }
      ],
      "source": [
        "z*w"
      ]
    },
    {
      "cell_type": "code",
      "execution_count": null,
      "id": "782e50e6",
      "metadata": {
        "id": "782e50e6",
        "outputId": "ef54f49e-4719-4f5b-ae96-adec309a0a67"
      },
      "outputs": [
        {
          "data": {
            "text/plain": [
              "(-0.07692307692307691+0.6153846153846154j)"
            ]
          },
          "execution_count": 6,
          "metadata": {},
          "output_type": "execute_result"
        }
      ],
      "source": [
        "z/w"
      ]
    },
    {
      "cell_type": "code",
      "execution_count": null,
      "id": "9b7437d9",
      "metadata": {
        "id": "9b7437d9",
        "outputId": "52013169-6481-437f-8684-f8f2f5f8fb37"
      },
      "outputs": [
        {
          "data": {
            "text/plain": [
              "(2+3j)"
            ]
          },
          "execution_count": 7,
          "metadata": {},
          "output_type": "execute_result"
        }
      ],
      "source": [
        "complex(2,3) # equivalent to 2 + 3j"
      ]
    },
    {
      "cell_type": "code",
      "execution_count": null,
      "id": "394d0067",
      "metadata": {
        "id": "394d0067",
        "outputId": "4985a4e1-00fa-4d81-c1d3-8b380934e509"
      },
      "outputs": [
        {
          "ename": "NameError",
          "evalue": "name 'j' is not defined",
          "output_type": "error",
          "traceback": [
            "\u001b[0;31m---------------------------------------------------------------------------\u001b[0m",
            "\u001b[0;31mNameError\u001b[0m                                 Traceback (most recent call last)",
            "Cell \u001b[0;32mIn [8], line 1\u001b[0m\n\u001b[0;32m----> 1\u001b[0m \u001b[43mj\u001b[49m\n",
            "\u001b[0;31mNameError\u001b[0m: name 'j' is not defined"
          ]
        }
      ],
      "source": [
        "j"
      ]
    },
    {
      "cell_type": "code",
      "execution_count": null,
      "id": "0ab80dfb",
      "metadata": {
        "id": "0ab80dfb",
        "outputId": "f67a8a1f-6d78-4d1e-baf7-e45d605e4c11"
      },
      "outputs": [
        {
          "data": {
            "text/plain": [
              "1j"
            ]
          },
          "execution_count": 9,
          "metadata": {},
          "output_type": "execute_result"
        }
      ],
      "source": [
        "1j"
      ]
    },
    {
      "cell_type": "code",
      "execution_count": null,
      "id": "ed8341b6",
      "metadata": {
        "id": "ed8341b6",
        "outputId": "1fd99287-ff38-4ae6-bc44-366036efefaf"
      },
      "outputs": [
        {
          "data": {
            "text/plain": [
              "2.23606797749979"
            ]
          },
          "execution_count": 10,
          "metadata": {},
          "output_type": "execute_result"
        }
      ],
      "source": [
        "abs(z)"
      ]
    },
    {
      "cell_type": "code",
      "execution_count": null,
      "id": "f74b4d36",
      "metadata": {
        "id": "f74b4d36",
        "outputId": "52c5d9cc-3378-4c0b-b3a1-19818b7721c4"
      },
      "outputs": [
        {
          "data": {
            "text/plain": [
              "(1+2j)"
            ]
          },
          "execution_count": 11,
          "metadata": {},
          "output_type": "execute_result"
        }
      ],
      "source": [
        "z"
      ]
    },
    {
      "cell_type": "code",
      "execution_count": null,
      "id": "bc9f47d1",
      "metadata": {
        "id": "bc9f47d1",
        "outputId": "f499b119-bdca-4fe1-d56b-fa78be088b10"
      },
      "outputs": [
        {
          "data": {
            "text/plain": [
              "2.23606797749979"
            ]
          },
          "execution_count": 12,
          "metadata": {},
          "output_type": "execute_result"
        }
      ],
      "source": [
        "import math\n",
        "math.sqrt(5)"
      ]
    },
    {
      "cell_type": "code",
      "execution_count": null,
      "id": "6bb0a029",
      "metadata": {
        "id": "6bb0a029",
        "outputId": "41958286-9c41-4cf4-c4f8-c27aa7c1f544"
      },
      "outputs": [
        {
          "data": {
            "text/plain": [
              "1.0"
            ]
          },
          "execution_count": 13,
          "metadata": {},
          "output_type": "execute_result"
        }
      ],
      "source": [
        "z.real"
      ]
    },
    {
      "cell_type": "code",
      "execution_count": null,
      "id": "d4aa838b",
      "metadata": {
        "id": "d4aa838b",
        "outputId": "ff4760da-8090-48ad-ba99-1a9aff25fb84"
      },
      "outputs": [
        {
          "data": {
            "text/plain": [
              "2.0"
            ]
          },
          "execution_count": 14,
          "metadata": {},
          "output_type": "execute_result"
        }
      ],
      "source": [
        "z.imag"
      ]
    },
    {
      "cell_type": "code",
      "execution_count": null,
      "id": "07224dfa",
      "metadata": {
        "id": "07224dfa",
        "outputId": "3d0e2dbc-e8f2-4736-cc53-b36158c3563a"
      },
      "outputs": [
        {
          "data": {
            "text/plain": [
              "(1-2j)"
            ]
          },
          "execution_count": 15,
          "metadata": {},
          "output_type": "execute_result"
        }
      ],
      "source": [
        "z.conjugate()"
      ]
    },
    {
      "cell_type": "code",
      "execution_count": null,
      "id": "7a5cc95b",
      "metadata": {
        "id": "7a5cc95b"
      },
      "outputs": [],
      "source": []
    }
  ],
  "metadata": {
    "kernelspec": {
      "display_name": "Python 3.9 (tensorflow)",
      "language": "python",
      "name": "tensorflow"
    },
    "language_info": {
      "codemirror_mode": {
        "name": "ipython",
        "version": 3
      },
      "file_extension": ".py",
      "mimetype": "text/x-python",
      "name": "python",
      "nbconvert_exporter": "python",
      "pygments_lexer": "ipython3",
      "version": "3.9.13"
    },
    "colab": {
      "provenance": [],
      "include_colab_link": true
    }
  },
  "nbformat": 4,
  "nbformat_minor": 5
}