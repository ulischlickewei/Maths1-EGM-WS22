{
 "cells": [
  {
   "cell_type": "code",
   "execution_count": 1,
   "id": "57f9d4e9",
   "metadata": {},
   "outputs": [],
   "source": [
    "import sympy as sy\n",
    "x = sy.symbols('x')"
   ]
  },
  {
   "cell_type": "code",
   "execution_count": 2,
   "id": "2601cab6",
   "metadata": {},
   "outputs": [],
   "source": [
    "def fa(x):\n",
    "    return sy.sin(x)\n",
    "\n",
    "def fb(x):\n",
    "    return sy.S(1)/2*x*sy.sin(x)\n",
    "\n",
    "def fc(x):\n",
    "    return sy.cos(x)\n",
    "\n",
    "def fd(x):\n",
    "    return sy.S(1)/2*x*sy.cos(x)"
   ]
  },
  {
   "cell_type": "code",
   "execution_count": 14,
   "id": "0b03cfd2",
   "metadata": {},
   "outputs": [
    {
     "data": {
      "text/latex": [
       "$\\displaystyle \\sin{\\left(x \\right)}$"
      ],
      "text/plain": [
       "sin(x)"
      ]
     },
     "execution_count": 14,
     "metadata": {},
     "output_type": "execute_result"
    }
   ],
   "source": [
    "fa(x)"
   ]
  },
  {
   "cell_type": "code",
   "execution_count": 7,
   "id": "eb195163",
   "metadata": {},
   "outputs": [
    {
     "data": {
      "text/latex": [
       "$\\displaystyle 0$"
      ],
      "text/plain": [
       "0"
      ]
     },
     "execution_count": 7,
     "metadata": {},
     "output_type": "execute_result"
    }
   ],
   "source": [
    "sy.diff(fa(x),x,2) + fa(x)"
   ]
  },
  {
   "cell_type": "code",
   "execution_count": 10,
   "id": "d2be79c8",
   "metadata": {},
   "outputs": [
    {
     "data": {
      "text/latex": [
       "$\\displaystyle \\cos{\\left(x \\right)}$"
      ],
      "text/plain": [
       "cos(x)"
      ]
     },
     "execution_count": 10,
     "metadata": {},
     "output_type": "execute_result"
    }
   ],
   "source": [
    "sy.diff(fb(x),x,2) + fb(x)"
   ]
  },
  {
   "cell_type": "code",
   "execution_count": 13,
   "id": "2824c5d0",
   "metadata": {},
   "outputs": [
    {
     "data": {
      "text/latex": [
       "$\\displaystyle 0$"
      ],
      "text/plain": [
       "0"
      ]
     },
     "execution_count": 13,
     "metadata": {},
     "output_type": "execute_result"
    }
   ],
   "source": [
    "sy.diff(fc(x),x,2) + fc(x)"
   ]
  },
  {
   "cell_type": "code",
   "execution_count": 17,
   "id": "ec41daaa",
   "metadata": {},
   "outputs": [
    {
     "data": {
      "text/latex": [
       "$\\displaystyle \\frac{x \\cos{\\left(x \\right)}}{2} - \\left(\\frac{x \\cos{\\left(x \\right)}}{2} + \\sin{\\left(x \\right)}\\right)$"
      ],
      "text/plain": [
       "x*cos(x)/2 - (x*cos(x)/2 + sin(x))"
      ]
     },
     "execution_count": 17,
     "metadata": {},
     "output_type": "execute_result"
    }
   ],
   "source": [
    "sy.diff(fd(x),x,2) + fd(x)"
   ]
  },
  {
   "cell_type": "code",
   "execution_count": 16,
   "id": "fefb9ff6",
   "metadata": {},
   "outputs": [
    {
     "data": {
      "text/latex": [
       "$\\displaystyle - \\sin{\\left(x \\right)}$"
      ],
      "text/plain": [
       "-sin(x)"
      ]
     },
     "execution_count": 16,
     "metadata": {},
     "output_type": "execute_result"
    }
   ],
   "source": [
    "(sy.diff(fd(x),x,2) + fd(x)).simplify()"
   ]
  },
  {
   "cell_type": "code",
   "execution_count": null,
   "id": "60b3aaeb",
   "metadata": {},
   "outputs": [],
   "source": []
  }
 ],
 "metadata": {
  "kernelspec": {
   "display_name": "maths-egm",
   "language": "python",
   "name": "maths-egm"
  },
  "language_info": {
   "codemirror_mode": {
    "name": "ipython",
    "version": 3
   },
   "file_extension": ".py",
   "mimetype": "text/x-python",
   "name": "python",
   "nbconvert_exporter": "python",
   "pygments_lexer": "ipython3",
   "version": "3.10.6"
  }
 },
 "nbformat": 4,
 "nbformat_minor": 5
}
